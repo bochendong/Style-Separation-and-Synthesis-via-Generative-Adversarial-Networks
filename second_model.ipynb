{
  "cells": [
    {
      "cell_type": "code",
      "execution_count": 36,
      "metadata": {
        "id": "tAz7koKv1MB5"
      },
      "outputs": [],
      "source": [
        "import os\n",
        "import glob\n",
        "import random\n",
        "import numpy as np\n",
        "\n",
        "from PIL import Image\n",
        "import matplotlib.pyplot as plt\n",
        "\n",
        "import torch\n",
        "import torch.nn as nn\n",
        "import torch.nn.functional as F\n",
        "import torch.backends.cudnn as cudnn\n",
        "\n",
        "from torch.autograd import Variable\n",
        "from torchvision.utils import save_image\n",
        "from torch.utils.data import DataLoader,Dataset\n",
        "from torchvision import transforms, models, datasets\n",
        "from torch.optim.lr_scheduler import StepLR\n",
        "\n",
        "from pylab import imread"
      ]
    },
    {
      "cell_type": "code",
      "execution_count": 37,
      "metadata": {
        "id": "2i0ul1TdfDUu"
      },
      "outputs": [],
      "source": [
        "if (os.path.exists(\"./output\")) == False:\n",
        "    os.mkdir(\"output\")\n",
        "\n",
        "if (os.path.exists(\"./model_weight\")) == False:\n",
        "    os.mkdir(\"model_weight\")\n",
        "\n",
        "for epoch in range (200):\n",
        "    if (os.path.exists(\"./output/%03d\" % epoch)) == False:\n",
        "        os.mkdir(\"./output/%03d\" % epoch)\n",
        "    else:\n",
        "        files = glob.glob(\"./output/%03d/*.png\" % epoch)\n",
        "\n",
        "        for f in files:\n",
        "          os.remove(f)"
      ]
    },
    {
      "cell_type": "markdown",
      "metadata": {
        "id": "VUJIfmDn1MCx"
      },
      "source": [
        "# Data"
      ]
    },
    {
      "cell_type": "code",
      "source": [
        "device = torch.device('cuda:0' if torch.cuda.is_available() else 'cpu')\n",
        "\n",
        "kwargs = {'num_workers': 2, 'pin_memory': True}\n",
        "\n",
        "cuda = True\n",
        "image_size = 32\n",
        "batchSize = 64"
      ],
      "metadata": {
        "id": "50aUu3MfiUvQ"
      },
      "execution_count": 38,
      "outputs": []
    },
    {
      "cell_type": "code",
      "source": [
        "def show_img(source, target, source_label, target_label):\n",
        "    num_row = 4\n",
        "    num_col = 5\n",
        "    num = 10\n",
        "    images = source[:num]\n",
        "    labels = source_label[:num]\n",
        "\n",
        "    fig, axes = plt.subplots(num_row, num_col, figsize=(1.5*num_col,2*num_row))\n",
        "    for i in range(num):\n",
        "        ax = axes[i//num_col, i%num_col]\n",
        "        \n",
        "        image =  images[i].transpose(0,2).transpose(0,1)\n",
        "\n",
        "        ax.imshow(image, cmap='gray')\n",
        "        ax.set_title('Label: {}'.format(labels[i]))\n",
        "\n",
        "\n",
        "    images = target[:num]\n",
        "    labels = target_label[:num]\n",
        "    for i in range(10,20):\n",
        "        ax = axes[i//num_col, i%num_col]\n",
        "        image = images[i - 10].transpose(0,2).transpose(0,1)\n",
        "        ax.imshow(image, cmap='gray')\n",
        "        ax.set_title('Label: {}'.format(labels[i - 10]))\n",
        "    plt.tight_layout()\n",
        "    plt.show()"
      ],
      "metadata": {
        "id": "osdNOtN2mpk0"
      },
      "execution_count": 39,
      "outputs": []
    },
    {
      "cell_type": "markdown",
      "source": [
        "## Mnist"
      ],
      "metadata": {
        "id": "kluPV1H5oETL"
      }
    },
    {
      "cell_type": "code",
      "source": [
        "transform = transforms.Compose([\n",
        "        transforms.Resize(image_size),\n",
        "        transforms.Grayscale(3),\n",
        "        transforms.ToTensor(),\n",
        "        transforms.Lambda(lambda t: t * 2 - 1)])\n",
        "\n",
        "mnist_trainset = datasets.MNIST(root='./data/mnist', train=True, download=True, transform=transform)\n",
        "mnist_testset = datasets.MNIST(root='./data/mnist', train=False, download=True, transform=transform)\n"
      ],
      "metadata": {
        "id": "OaqWTwLNn4Xa"
      },
      "execution_count": 40,
      "outputs": []
    },
    {
      "cell_type": "markdown",
      "source": [
        "## Mnist-M"
      ],
      "metadata": {
        "id": "QkU7PlPEoHUq"
      }
    },
    {
      "cell_type": "code",
      "source": [
        "def get_backgrounds():\n",
        "    backgrounds = []\n",
        "    for file in os.listdir(\"./images/train\"):\n",
        "        if file.endswith('.jpg'):\n",
        "            backgrounds.append(plt.imread(os.path.join(\"./images/train\",file)))\n",
        "    return backgrounds\n",
        "\n",
        "def compose_image(image, backgrounds):\n",
        "    image = (image > 0).astype(np.float32)\n",
        "    image = image.reshape([28,28])*255.0\n",
        "    \n",
        "    image = np.stack([image,image,image],axis=2)\n",
        "    \n",
        "    background = np.random.choice(backgrounds)\n",
        "    w,h,_ = background.shape\n",
        "    dw, dh,_ = image.shape\n",
        "    x = np.random.randint(0,w-dw)\n",
        "    y = np.random.randint(0,h-dh)\n",
        "    \n",
        "    temp = background[x:x+dw, y:y+dh]\n",
        "    return np.abs(temp-image).astype(np.uint8)\n",
        "\n",
        "class MNISTM(Dataset):    \n",
        "    def __init__(self, train=True,transform=None):\n",
        "        if train:\n",
        "            self.data = datasets.MNIST(root='.data/mnist',train=True, download=True)\n",
        "        else:\n",
        "            self.data = datasets.MNIST(root='.data/mnist',train=False, download=True)\n",
        "        self.backgrounds = get_backgrounds()\n",
        "        self.transform = transform\n",
        "        self.images = []\n",
        "        self.targets = []\n",
        "        for index in range(len(self.data)):\n",
        "            image = np.array(self.data.__getitem__(index)[0])\n",
        "            target = self.data.__getitem__(index)[1]\n",
        "            image = compose_image(image, self.backgrounds)\n",
        "            if self.transform is not None:\n",
        "                image = self.transform(image)\n",
        "            self.images.append(image)\n",
        "            self.targets.append(target)\n",
        "        \n",
        "    def __getitem__(self,index):\n",
        "        image = self.images[index]\n",
        "        target = self.targets[index]\n",
        "        \n",
        "        return image, target\n",
        "        \n",
        "    def __len__(self):\n",
        "        return len(self.data)"
      ],
      "metadata": {
        "id": "fNrMH4z5oGtu"
      },
      "execution_count": 41,
      "outputs": []
    },
    {
      "cell_type": "code",
      "source": [
        "transform = transforms.Compose([\n",
        "            transforms.ToPILImage(),\n",
        "            transforms.Resize(image_size),\n",
        "            transforms.ToTensor(),\n",
        "            transforms.Lambda(lambda t: t * 2 - 1)\n",
        "        ])\n",
        "\n",
        "trainset = MNISTM(train=True,transform=transform)\n",
        "testset = MNISTM(train=False,transform=transform)"
      ],
      "metadata": {
        "id": "XXagwGNxov2t",
        "outputId": "1e79088a-37aa-49af-e0a7-2c2bb59e53c7",
        "colab": {
          "base_uri": "https://localhost:8080/"
        }
      },
      "execution_count": 42,
      "outputs": [
        {
          "output_type": "stream",
          "name": "stderr",
          "text": [
            "/usr/local/lib/python3.7/dist-packages/ipykernel_launcher.py:14: VisibleDeprecationWarning: Creating an ndarray from ragged nested sequences (which is a list-or-tuple of lists-or-tuples-or ndarrays with different lengths or shapes) is deprecated. If you meant to do this, you must specify 'dtype=object' when creating the ndarray.\n",
            "  \n"
          ]
        }
      ]
    },
    {
      "cell_type": "code",
      "source": [
        "source_train = DataLoader(mnist_trainset, batch_size=batchSize, shuffle=True, drop_last=True, **kwargs)\n",
        "source_test = DataLoader(mnist_testset, batch_size=batchSize, shuffle=True, drop_last=True, **kwargs)"
      ],
      "metadata": {
        "id": "BRcXrUIZv6CF"
      },
      "execution_count": 43,
      "outputs": []
    },
    {
      "cell_type": "code",
      "source": [
        "target_train = DataLoader(trainset, batch_size=batchSize, shuffle=True, drop_last=True, **kwargs)\n",
        "target_test = DataLoader(testset, batch_size=batchSize, shuffle=False, drop_last=True, **kwargs)"
      ],
      "metadata": {
        "id": "-IVxtlhAoyRU"
      },
      "execution_count": 44,
      "outputs": []
    },
    {
      "cell_type": "code",
      "source": [
        "source_iter = iter(source_train)\n",
        "source_inputs, source_label = source_iter.next()\n",
        "\n",
        "target_iter = iter(target_train)\n",
        "target_inputs, target_label = target_iter.next()"
      ],
      "metadata": {
        "id": "a9w67Lw0mrOY"
      },
      "execution_count": 45,
      "outputs": []
    },
    {
      "cell_type": "code",
      "source": [
        "print(\"%2f, %2f\" % (torch.min(source_inputs), torch.max(source_inputs)))"
      ],
      "metadata": {
        "id": "Ht_5WRfiryXC",
        "outputId": "555cf450-52d1-4926-d405-e109aed077be",
        "colab": {
          "base_uri": "https://localhost:8080/"
        }
      },
      "execution_count": 46,
      "outputs": [
        {
          "output_type": "stream",
          "name": "stdout",
          "text": [
            "-1.000000, 1.000000\n"
          ]
        }
      ]
    },
    {
      "cell_type": "code",
      "source": [
        "print(\"%2f, %2f\" % (torch.min(target_inputs), torch.max(target_inputs)))"
      ],
      "metadata": {
        "id": "WtYBA8tBr-dX",
        "outputId": "0b6f8932-838c-41ac-be61-1fb5cb75119a",
        "colab": {
          "base_uri": "https://localhost:8080/"
        }
      },
      "execution_count": 47,
      "outputs": [
        {
          "output_type": "stream",
          "name": "stdout",
          "text": [
            "-1.000000, 1.000000\n"
          ]
        }
      ]
    },
    {
      "cell_type": "code",
      "source": [
        "index = random.randint(0, 15)\n",
        "image_source_sample = source_inputs[index]\n",
        "image_source_sample = (image_source_sample + 1) * 0.5\n",
        "image = image_source_sample.transpose(0,2).transpose(0,1)\n",
        "plt.imshow(image)"
      ],
      "metadata": {
        "id": "ycvMXFa7cihR",
        "outputId": "d729d2d7-4fed-47cb-829d-4bc33eb38b7c",
        "colab": {
          "base_uri": "https://localhost:8080/",
          "height": 283
        }
      },
      "execution_count": 48,
      "outputs": [
        {
          "output_type": "execute_result",
          "data": {
            "text/plain": [
              "<matplotlib.image.AxesImage at 0x7f0ba1e7e410>"
            ]
          },
          "metadata": {},
          "execution_count": 48
        },
        {
          "output_type": "display_data",
          "data": {
            "text/plain": [
              "<Figure size 432x288 with 1 Axes>"
            ],
            "image/png": "[encoded data removed]"
          },
          "metadata": {
            "needs_background": "light"
          }
        }
      ]
    },
    {
      "cell_type": "code",
      "source": [
        "image_target_sample = target_inputs[index]\n",
        "image_target_sample = (image_target_sample + 1) * 0.5\n",
        "image = image_target_sample.transpose(0,2).transpose(0,1)\n",
        "plt.imshow(image)"
      ],
      "metadata": {
        "id": "RVS5SkcFdS3Q",
        "outputId": "ed118775-ce3e-4ed9-c335-d15fee64c6f0",
        "colab": {
          "base_uri": "https://localhost:8080/",
          "height": 283
        }
      },
      "execution_count": 49,
      "outputs": [
        {
          "output_type": "execute_result",
          "data": {
            "text/plain": [
              "<matplotlib.image.AxesImage at 0x7f0ba7f03690>"
            ]
          },
          "metadata": {},
          "execution_count": 49
        },
        {
          "output_type": "display_data",
          "data": {
            "text/plain": [
              "<Figure size 432x288 with 1 Axes>"
            ],
            "image/png": "[encoded data removed]"
          },
          "metadata": {
            "needs_background": "light"
          }
        }
      ]
    },
    {
      "cell_type": "markdown",
      "metadata": {
        "id": "tj4IrxmY1MDH"
      },
      "source": [
        "# Module"
      ]
    },
    {
      "cell_type": "markdown",
      "metadata": {
        "id": "5kV1qBY41MDO"
      },
      "source": [
        "## Perceptual"
      ]
    },
    {
      "cell_type": "code",
      "execution_count": 50,
      "metadata": {
        "id": "NFsKAlmUdbsH"
      },
      "outputs": [],
      "source": [
        "class Perceptual(nn.Module):\n",
        "    def __init__(self):\n",
        "        super(Perceptual, self).__init__()\n",
        "\n",
        "        self.encoder = nn.Sequential(\n",
        "            nn.ReflectionPad2d(3),\n",
        "            nn.Conv2d(3, 64, 7),\n",
        "            nn.InstanceNorm2d(64),\n",
        "            nn.ReLU(inplace=True),\n",
        "\n",
        "            nn.Conv2d(64, 128, 3, stride=2, padding=1),\n",
        "            nn.InstanceNorm2d(128),\n",
        "            nn.ReLU(inplace=True),\n",
        "\n",
        "            nn.Conv2d(128, 256, 3, stride=2, padding=1),\n",
        "            nn.InstanceNorm2d(256),\n",
        "            nn.ReLU(inplace=True),\n",
        "        )\n",
        "        self.decoder = nn.Sequential(\n",
        "            nn.ConvTranspose2d(256, 128, 3, stride=2, padding=1, output_padding=1),\n",
        "            nn.InstanceNorm2d(128),\n",
        "            nn.ReLU(inplace=True),\n",
        "\n",
        "            nn.ConvTranspose2d(128, 64, 3, stride=2, padding=1, output_padding=1),\n",
        "            nn.InstanceNorm2d(64),\n",
        "            nn.ReLU(inplace=True),\n",
        "\n",
        "            nn.ReflectionPad2d(3),\n",
        "            nn.Conv2d(64, 3, 7),\n",
        "            nn.InstanceNorm2d(3),\n",
        "            nn.Tanh()\n",
        "        )\n",
        "\n",
        "    def forward(self, A, B):\n",
        "        encode_A = self.encoder(A)\n",
        "        encode_B = self.encoder(B)\n",
        "        reconA = self.decoder(encode_A)\n",
        "        reconB = self.decoder(encode_B)\n",
        "\n",
        "        encode_A.detach()\n",
        "        encode_B.detach()\n",
        "\n",
        "        style = encode_A[:, 0:128, : , :]\n",
        "        content = encode_B[:, 128:256, :, :]\n",
        "        \n",
        "        mixed_latent = torch.cat([style, content], dim=1)\n",
        "        mixed_image = self.decoder(mixed_latent)\n",
        "\n",
        "        return mixed_image, reconA, reconB"
      ]
    },
    {
      "cell_type": "code",
      "source": [
        "test_tensor_source = source_inputs\n",
        "test_tensor_target = target_inputs\n",
        "\n",
        "perceptual = Perceptual()\n",
        "encoder = perceptual.encoder\n",
        "decoder = perceptual.decoder\n",
        "encoder_out = encoder(test_tensor_target)\n",
        "decoder_out = decoder(encoder_out)\n",
        "\n",
        "print(encoder_out.size())\n",
        "print(decoder_out.size())\n",
        "\n",
        "mixed, reconA, reconB = perceptual(test_tensor_source, test_tensor_target)\n",
        "print(mixed.size())\n",
        "print(reconA.size())\n",
        "print(reconB.size())\n",
        "\n",
        "print(\"mixed: min: %.2f, max: %.2f \" % (torch.min(mixed), torch.max(mixed)))\n",
        "\n",
        "print(\"reconA: min: %.2f, max: %.2f \" % (torch.min(reconA), torch.max(reconA)))\n",
        "\n",
        "print(\"reconB: min: %.2f, max: %.2f \" % (torch.min(reconB), torch.max(reconB)))"
      ],
      "metadata": {
        "id": "ApdMclXUeRUC",
        "outputId": "cb55cd86-d3e7-4ae0-8f04-ff9bf79e94b0",
        "colab": {
          "base_uri": "https://localhost:8080/"
        }
      },
      "execution_count": 51,
      "outputs": [
        {
          "output_type": "stream",
          "name": "stdout",
          "text": [
            "torch.Size([64, 256, 8, 8])\n",
            "torch.Size([64, 3, 32, 32])\n",
            "torch.Size([64, 3, 32, 32])\n",
            "torch.Size([64, 3, 32, 32])\n",
            "torch.Size([64, 3, 32, 32])\n",
            "mixed: min: -1.00, max: 1.00 \n",
            "reconA: min: -1.00, max: 1.00 \n",
            "reconB: min: -1.00, max: 1.00 \n"
          ]
        }
      ]
    },
    {
      "cell_type": "code",
      "source": [
        "print(mixed[0][0][0] - reconA[0][0][0])\n",
        "print(mixed[0][0][0] - reconB[0][0][0])"
      ],
      "metadata": {
        "id": "M6NIU0nTgYJx",
        "outputId": "d68470c5-42e6-4c8c-d4be-fdbfc6e3ab45",
        "colab": {
          "base_uri": "https://localhost:8080/"
        }
      },
      "execution_count": 52,
      "outputs": [
        {
          "output_type": "stream",
          "name": "stdout",
          "text": [
            "tensor([ 0.1954, -0.4117,  0.1019,  0.0136,  0.2273, -0.0589, -0.0590, -0.0170,\n",
            "         0.3245, -0.1014, -0.0675, -0.3079, -0.4429, -0.0862,  0.3751, -0.0834,\n",
            "         0.1536,  0.6722, -0.4725, -0.1030,  0.1380, -0.0765, -0.0038, -0.4069,\n",
            "         0.7215, -0.5400, -0.1986,  0.0018,  0.3890,  0.1243, -0.5683,  0.2041],\n",
            "       grad_fn=<SubBackward0>)\n",
            "tensor([-0.2169,  0.1935, -0.0521, -0.2751,  0.0223,  0.3839, -0.0408, -0.7108,\n",
            "         0.1007,  0.3237, -0.1082, -0.1871,  0.0491, -0.4472,  0.5514, -0.6972,\n",
            "        -0.8616,  0.9997, -0.5995,  0.2287,  0.6828,  0.9967, -0.7518, -0.5778,\n",
            "         0.6721, -0.2188, -0.1555, -0.2560, -0.1810, -0.1746, -0.1241, -0.0027],\n",
            "       grad_fn=<SubBackward0>)\n"
          ]
        }
      ]
    },
    {
      "cell_type": "markdown",
      "metadata": {
        "id": "HLubC4sJ1MDd"
      },
      "source": [
        "## Discriminator"
      ]
    },
    {
      "cell_type": "code",
      "execution_count": 53,
      "metadata": {
        "id": "67DdNmWP1MDd"
      },
      "outputs": [],
      "source": [
        "class Discriminator(nn.Module):\n",
        "    def __init__(self, input_nc = 3):\n",
        "        super(Discriminator, self).__init__()\n",
        "        self.model = nn.Sequential(\n",
        "            nn.Conv2d(input_nc, 64, 4, stride=2, padding=1),\n",
        "            nn.LeakyReLU(0.2, inplace=True),\n",
        "\n",
        "            nn.Conv2d(64, 128, 4, padding=1),\n",
        "            nn.InstanceNorm2d(128), \n",
        "            nn.LeakyReLU(0.2, inplace=True),\n",
        "\n",
        "            nn.Conv2d(128, 256, 4, padding=1),\n",
        "            nn.InstanceNorm2d(256), \n",
        "            nn.LeakyReLU(0.2, inplace=True),\n",
        "\n",
        "            nn.Conv2d(256, 1, 4, padding=1)\n",
        "        )\n",
        "\n",
        "\n",
        "    def forward(self, x):\n",
        "        x =  self.model(x)\n",
        "        return F.avg_pool2d(x, x.size()[2:]).view(x.size()[0], -1)"
      ]
    },
    {
      "cell_type": "code",
      "source": [
        "discriminator = Discriminator()\n",
        "\n",
        "output = discriminator(test_tensor_source)\n",
        "print(output.size())\n",
        "print(torch.min(output))\n",
        "print(torch.max(output))"
      ],
      "metadata": {
        "id": "SY5fBnHMgAYz",
        "outputId": "51f97c70-d8ea-47c6-da71-b602b975eee8",
        "colab": {
          "base_uri": "https://localhost:8080/"
        }
      },
      "execution_count": 54,
      "outputs": [
        {
          "output_type": "stream",
          "name": "stdout",
          "text": [
            "torch.Size([64, 1])\n",
            "tensor(-0.2517, grad_fn=<MinBackward1>)\n",
            "tensor(-0.1936, grad_fn=<MaxBackward1>)\n"
          ]
        }
      ]
    },
    {
      "cell_type": "markdown",
      "metadata": {
        "id": "sPaeTfIX1MDk"
      },
      "source": [
        "# Loss"
      ]
    },
    {
      "cell_type": "code",
      "execution_count": 55,
      "metadata": {
        "id": "6EkNLO_T1MDk"
      },
      "outputs": [],
      "source": [
        "def tv_loss(img, tv_weight=5e-2):\n",
        "    w_variance = torch.sum(torch.pow(img[:,:,:,:-1] - img[:,:,:,1:], 2))\n",
        "    h_variance = torch.sum(torch.pow(img[:,:,:-1,:] - img[:,:,1:,:], 2))\n",
        "    loss = tv_weight * (h_variance + w_variance)\n",
        "    return loss\n",
        "\n",
        "def total_variation_loss(img, weight=5e-2):\n",
        "    bs_img, c_img, h_img, w_img = img.size()\n",
        "    tv_h = torch.pow(img[:, :, 1:, :] - img[:, :, :-1, :], 2).sum()\n",
        "    tv_w = torch.pow(img[:, :, :, 1:] - img[:, :, :, :-1], 2).sum()\n",
        "    return weight * (tv_h + tv_w) / (bs_img * c_img * h_img * w_img)\n",
        "\n",
        "def compute_content_loss(target_feature, content_feature):\n",
        "    return torch.mean((target_feature - content_feature)**2)\n",
        "\n",
        "def batch_gram_matrix(img):\n",
        "    b, d, h, w = img.size()\n",
        "    img = img.view(b*d, h*w)\n",
        "    gram = torch.mm(img, img.t())\n",
        "    return gram\n",
        "    \n",
        "style_weights = {'conv1_1': 1.0, 'conv2_1': 0.75, 'conv3_1': 0.2, 'conv4_1': 0.2, 'conv5_1': 0.2}\n",
        "\n",
        "def compute_style_loss(style_features, target_features):\n",
        "    style_loss = 0\n",
        "    style_grams = {layer: batch_gram_matrix(style_features[layer]) for layer in style_features}\n",
        "\n",
        "    for layer in style_weights:\n",
        "        target_feature = target_features[layer]\n",
        "        target_gram = batch_gram_matrix(target_feature)\n",
        "        _, d, h, w = target_feature.shape\n",
        "\n",
        "        style_gram = style_grams[layer]\n",
        "\n",
        "        layer_style_loss = style_weights[layer] * torch.mean((target_gram - style_gram) ** 2)\n",
        "        style_loss += layer_style_loss / (d * h * w)\n",
        "\n",
        "    return style_loss"
      ]
    },
    {
      "cell_type": "markdown",
      "metadata": {
        "id": "DEujnWnX1MDl"
      },
      "source": [
        "# Training"
      ]
    },
    {
      "cell_type": "markdown",
      "metadata": {
        "id": "O4U1o05Y1MDm"
      },
      "source": [
        "## Training Method"
      ]
    },
    {
      "cell_type": "code",
      "execution_count": 56,
      "metadata": {
        "id": "_L7ExZCq1MDz"
      },
      "outputs": [],
      "source": [
        "def get_features(image, model, layers=None):\n",
        "    if layers is None:\n",
        "        layers = {'0': 'conv1_1', \n",
        "              '3': 'conv2_1', \n",
        "              '6': 'conv3_1', \n",
        "              '11': 'conv4_1',\n",
        "              '13': 'conv4_2', \n",
        "              '16': 'conv5_1'}\n",
        "    features = {}\n",
        "    x = image\n",
        "    for name, layer in model._modules.items():\n",
        "        x = layer(x)\n",
        "        if name in layers:\n",
        "            features[layers[name]] = x\n",
        "\n",
        "    return features"
      ]
    },
    {
      "cell_type": "markdown",
      "metadata": {
        "id": "EVvM_If_1MD1"
      },
      "source": [
        "## Model hypermeter"
      ]
    },
    {
      "cell_type": "code",
      "execution_count": 57,
      "metadata": {
        "id": "TBdlE72j1MD4"
      },
      "outputs": [],
      "source": [
        "perceptual = Perceptual()\n",
        "discriminator = Discriminator()"
      ]
    },
    {
      "cell_type": "code",
      "execution_count": 58,
      "metadata": {
        "id": "Y8zIpzSL1MD5"
      },
      "outputs": [],
      "source": [
        "learning_rate = 0.05\n",
        "beta = (0.5, 0.999)\n",
        "\n",
        "criterion_adv = torch.nn.MSELoss()\n",
        "criterion_discriminator = torch.nn.MSELoss()\n",
        "criterion_construct = torch.nn.L1Loss()\n",
        "\n",
        "optimizer_pre = torch.optim.Adam(perceptual.parameters(), lr=learning_rate, betas=beta)\n",
        "optimizer_dis = torch.optim.Adam(discriminator.parameters(), lr=learning_rate, betas=beta)\n",
        "\n",
        "scheduler_pre = StepLR(optimizer_pre, step_size=40, gamma=0.4)\n",
        "scheduler_dis = StepLR(optimizer_dis, step_size=40, gamma=0.4)"
      ]
    },
    {
      "cell_type": "code",
      "execution_count": 59,
      "metadata": {
        "id": "OCYbEweS1MD5"
      },
      "outputs": [],
      "source": [
        "vgg = models.vgg11(pretrained=True).features\n",
        "for param in vgg.parameters():\n",
        "    param.requires_grad_(False)"
      ]
    },
    {
      "cell_type": "code",
      "execution_count": 60,
      "metadata": {
        "id": "1_h8u5-V1MD5"
      },
      "outputs": [],
      "source": [
        "if (torch.cuda.is_available()):\n",
        "    torch.cuda.manual_seed_all(42)\n",
        "    cudnn.benchmark = True\n",
        "\n",
        "    criterion_construct = criterion_construct.cuda()\n",
        "    criterion_discriminator = criterion_discriminator.cuda()\n",
        "    criterion_construct = criterion_construct.cuda()\n",
        "\n",
        "    vgg.cuda()\n",
        "    perceptual.cuda()\n",
        "    discriminator.cuda()"
      ]
    },
    {
      "cell_type": "markdown",
      "metadata": {
        "id": "Oe87ze5D1MD6"
      },
      "source": [
        "## Init the network"
      ]
    },
    {
      "cell_type": "code",
      "execution_count": 61,
      "metadata": {
        "id": "vVGb29b_1MD6"
      },
      "outputs": [],
      "source": [
        "def weights_init_normal(m):\n",
        "    classname = m.__class__.__name__\n",
        "    if classname.find('Conv') != -1:\n",
        "        torch.nn.init.normal_(m.weight.data, 0.0, 0.02)\n",
        "    elif classname.find('BatchNorm2d') != -1:\n",
        "        torch.nn.init.normal_(m.weight.data, 1.0, 0.02)\n",
        "        torch.nn.init.constant(m.bias.data, 0.0)"
      ]
    },
    {
      "cell_type": "code",
      "execution_count": 62,
      "metadata": {
        "colab": {
          "base_uri": "https://localhost:8080/"
        },
        "id": "X-cEljb71MD6",
        "outputId": "8f5e3254-56b2-4368-ff0e-242ad514c3bc"
      },
      "outputs": [
        {
          "output_type": "execute_result",
          "data": {
            "text/plain": [
              "Discriminator(\n",
              "  (model): Sequential(\n",
              "    (0): Conv2d(3, 64, kernel_size=(4, 4), stride=(2, 2), padding=(1, 1))\n",
              "    (1): LeakyReLU(negative_slope=0.2, inplace=True)\n",
              "    (2): Conv2d(64, 128, kernel_size=(4, 4), stride=(1, 1), padding=(1, 1))\n",
              "    (3): InstanceNorm2d(128, eps=1e-05, momentum=0.1, affine=False, track_running_stats=False)\n",
              "    (4): LeakyReLU(negative_slope=0.2, inplace=True)\n",
              "    (5): Conv2d(128, 256, kernel_size=(4, 4), stride=(1, 1), padding=(1, 1))\n",
              "    (6): InstanceNorm2d(256, eps=1e-05, momentum=0.1, affine=False, track_running_stats=False)\n",
              "    (7): LeakyReLU(negative_slope=0.2, inplace=True)\n",
              "    (8): Conv2d(256, 1, kernel_size=(4, 4), stride=(1, 1), padding=(1, 1))\n",
              "  )\n",
              ")"
            ]
          },
          "metadata": {},
          "execution_count": 62
        }
      ],
      "source": [
        "perceptual.apply(weights_init_normal)\n",
        "discriminator.apply(weights_init_normal)"
      ]
    },
    {
      "cell_type": "markdown",
      "metadata": {
        "id": "8j-yi9aD1MD7"
      },
      "source": [
        "## Training"
      ]
    },
    {
      "cell_type": "code",
      "source": [
        "Tensor = torch.cuda.FloatTensor if cuda else torch.Tensor\n",
        "real_label = Variable(Tensor(batchSize).fill_(1.0), requires_grad=False)\n",
        "fake_label = Variable(Tensor(batchSize).fill_(0.0), requires_grad=False)\n",
        "real_label = real_label[:, None]\n",
        "fake_label = fake_label[:, None]\n",
        "\n",
        "input_s = Tensor(batchSize, 3, image_size, image_size)\n",
        "input_t = Tensor(batchSize, 3, image_size, image_size)\n",
        "\n",
        "if cuda:\n",
        "  input_s, input_t = input_s.cuda(), input_t.cuda()"
      ],
      "metadata": {
        "id": "66yT_3H3i59X"
      },
      "execution_count": 63,
      "outputs": []
    },
    {
      "cell_type": "code",
      "source": [
        "# Mixed image will have same label with source\n",
        "def training(source, target, perceptual, discriminator, \n",
        "             critic_adv, cirtic_recon, cirtic_dis, \n",
        "             optim_pre, optim_dis, \n",
        "             sche_pre, sche_dis, \n",
        "             use_cuda = True):\n",
        "    source_iter = iter(source)\n",
        "    target_iter = iter(target)\n",
        "\n",
        "    len_dataloader = min(len(source_iter), len(target_iter))\n",
        "\n",
        "    i = 0\n",
        "    while i < len_dataloader:\n",
        "        s_img, _ = source_iter.next()\n",
        "        t_img, _ = target_iter.next()\n",
        "\n",
        "        if use_cuda:\n",
        "            s_img, t_img = s_img.cuda(), t_img.cuda()\n",
        "\n",
        "        org_s = Variable(input_s.copy_(s_img))\n",
        "        org_t = Variable(input_t.copy_(t_img))\n",
        "\n",
        "        # Preceptual\n",
        "        optimizer_pre.zero_grad()\n",
        "        mixed, recon_s, recon_t = perceptual(org_s, org_t)\n",
        "        mixed_label = discriminator(mixed)\n",
        "\n",
        "        loss_ss = cirtic_recon(recon_s, org_s) * 5.0\n",
        "        loss_tt = cirtic_recon(recon_t, org_t) * 5.0\n",
        "\n",
        "        # if the discriminator predit false, loss_adv will decrease\n",
        "        loss_adv = critic_adv(mixed_label, real_label)\n",
        "\n",
        "        ## what if we calculate loss between (recon_s and recon_t)\n",
        "        ## what if we calculate loss between (recon_s and previous loss_ss) and (loss_tt and previous loss_tt)\n",
        "        ## what if we connect a classifier to the end of the perceptual\n",
        "        ## what if we calculate loss from previous epoch\n",
        "\n",
        "        TV_loss = total_variation_loss(mixed)\n",
        "\n",
        "        preceptual_loss = loss_ss + loss_tt + loss_adv + TV_loss\n",
        "        preceptual_loss.backward()\n",
        "        optim_pre.step()\n",
        "\n",
        "        # Discriminator\n",
        "        optim_dis.zero_grad()\n",
        "\n",
        "        pred_real = discriminator(org_s)\n",
        "        pred_fake = discriminator(mixed.detach())\n",
        "\n",
        "        loss_dis_real = cirtic_dis(pred_real, real_label)\n",
        "        loss_dis_fake = cirtic_dis(pred_fake, fake_label)\n",
        "\n",
        "        discriminator_loss = loss_dis_real + loss_dis_fake\n",
        "        discriminator_loss.backward()\n",
        "        optim_dis.step()\n",
        "\n",
        "        if  i % 400 == 0:\n",
        "            real_A = org_s.data\n",
        "            real_B = org_t.data\n",
        "            mixed_image = mixed.data\n",
        "            reconstructionA = recon_s.data\n",
        "            reconstructionB = recon_t.data\n",
        "\n",
        "            save_image(real_A, './output/%03d/%d_A.png' % ( epoch, i))\n",
        "            save_image(real_B, 'output/%03d/%d_B.png' % ( epoch, i))\n",
        "            save_image(reconstructionA, 'output/%03d/%d_reconA.png' % ( epoch, i))\n",
        "            save_image(reconstructionB, 'output/%03d/%d_reconB.png' % ( epoch, i))\n",
        "            save_image(mixed_image, 'output/%03d/%d_Mixed.png' % ( epoch, i))\n",
        "\n",
        "        i += 1\n",
        "\n",
        "    print (\"e: %d\" % epoch)    \n",
        "    print (\"pre_loss: %.2f, loss_ss: %.2f, loss_tt: %.2f, loss_adv: %.2f\" % (preceptual_loss, loss_ss, loss_tt, loss_adv))\n",
        "    print (\"discriminator_loss: %.2f, D_real: %.2f, D_fake: %.2f\" % (discriminator_loss, loss_dis_real, loss_dis_fake))\n",
        "\n",
        "    sche_pre.step()\n",
        "    sche_dis.step()\n",
        "      "
      ],
      "metadata": {
        "id": "sj9jKzg1i-50"
      },
      "execution_count": 64,
      "outputs": []
    },
    {
      "cell_type": "code",
      "source": [
        "for epoch in range(0, 200):\n",
        "  training(source_train, target_train, perceptual, discriminator, \n",
        "           criterion_adv, criterion_construct, criterion_discriminator, \n",
        "           optimizer_pre, optimizer_dis, \n",
        "           scheduler_pre, scheduler_dis, use_cuda = True)"
      ],
      "metadata": {
        "id": "-5gjL3wwjQ1Z",
        "outputId": "c0dca69e-cbdc-4ed0-d3c6-204d2b8336cf",
        "colab": {
          "base_uri": "https://localhost:8080/"
        }
      },
      "execution_count": null,
      "outputs": [
        {
          "output_type": "stream",
          "name": "stdout",
          "text": [
            "e: 0\n",
            "pre_loss: 11.59, loss_ss: 4.05, loss_tt: 2.61, loss_adv: 4.92\n",
            "discriminator_loss: 5.50, D_real: 1.49, D_fake: 4.01\n",
            "e: 1\n",
            "pre_loss: 7.51, loss_ss: 3.99, loss_tt: 2.60, loss_adv: 0.89\n",
            "discriminator_loss: 0.32, D_real: 0.22, D_fake: 0.10\n",
            "e: 2\n",
            "pre_loss: 10.54, loss_ss: 3.77, loss_tt: 2.45, loss_adv: 4.30\n",
            "discriminator_loss: 2.69, D_real: 1.52, D_fake: 1.17\n",
            "e: 3\n",
            "pre_loss: 13.68, loss_ss: 3.47, loss_tt: 2.16, loss_adv: 8.03\n",
            "discriminator_loss: 6.63, D_real: 3.25, D_fake: 3.37\n",
            "e: 4\n",
            "pre_loss: 6.64, loss_ss: 3.29, loss_tt: 2.13, loss_adv: 1.21\n",
            "discriminator_loss: 0.06, D_real: 0.04, D_fake: 0.02\n",
            "e: 5\n",
            "pre_loss: 11.06, loss_ss: 4.24, loss_tt: 2.70, loss_adv: 4.09\n",
            "discriminator_loss: 5.48, D_real: 2.23, D_fake: 3.24\n",
            "e: 6\n",
            "pre_loss: 8.01, loss_ss: 4.49, loss_tt: 2.81, loss_adv: 0.67\n",
            "discriminator_loss: 1.44, D_real: 0.82, D_fake: 0.62\n",
            "e: 7\n",
            "pre_loss: 7.80, loss_ss: 4.40, loss_tt: 2.69, loss_adv: 0.66\n",
            "discriminator_loss: 0.61, D_real: 0.31, D_fake: 0.30\n",
            "e: 8\n",
            "pre_loss: 7.91, loss_ss: 4.40, loss_tt: 2.59, loss_adv: 0.87\n",
            "discriminator_loss: 0.23, D_real: 0.14, D_fake: 0.09\n",
            "e: 9\n",
            "pre_loss: 7.87, loss_ss: 3.62, loss_tt: 2.04, loss_adv: 2.18\n",
            "discriminator_loss: 0.88, D_real: 0.64, D_fake: 0.25\n",
            "e: 10\n",
            "pre_loss: 9.79, loss_ss: 4.51, loss_tt: 3.36, loss_adv: 1.79\n",
            "discriminator_loss: 3.64, D_real: 1.60, D_fake: 2.05\n",
            "e: 11\n",
            "pre_loss: 8.48, loss_ss: 4.23, loss_tt: 3.01, loss_adv: 1.12\n",
            "discriminator_loss: 0.29, D_real: 0.11, D_fake: 0.18\n",
            "e: 12\n",
            "pre_loss: 7.19, loss_ss: 3.64, loss_tt: 2.46, loss_adv: 1.04\n",
            "discriminator_loss: 0.25, D_real: 0.11, D_fake: 0.14\n",
            "e: 13\n",
            "pre_loss: 6.21, loss_ss: 3.49, loss_tt: 2.15, loss_adv: 0.54\n",
            "discriminator_loss: 0.17, D_real: 0.07, D_fake: 0.09\n",
            "e: 14\n",
            "pre_loss: 5.99, loss_ss: 3.37, loss_tt: 1.99, loss_adv: 0.61\n",
            "discriminator_loss: 7.01, D_real: 3.88, D_fake: 3.13\n",
            "e: 15\n",
            "pre_loss: 9.04, loss_ss: 4.52, loss_tt: 2.90, loss_adv: 1.52\n",
            "discriminator_loss: 0.91, D_real: 0.74, D_fake: 0.17\n",
            "e: 16\n",
            "pre_loss: 33.14, loss_ss: 3.60, loss_tt: 2.44, loss_adv: 27.06\n",
            "discriminator_loss: 35.64, D_real: 17.97, D_fake: 17.66\n",
            "e: 17\n",
            "pre_loss: 5.40, loss_ss: 3.12, loss_tt: 2.00, loss_adv: 0.27\n",
            "discriminator_loss: 0.32, D_real: 0.05, D_fake: 0.27\n",
            "e: 18\n",
            "pre_loss: 8.02, loss_ss: 3.16, loss_tt: 2.00, loss_adv: 2.83\n",
            "discriminator_loss: 1.67, D_real: 1.20, D_fake: 0.48\n",
            "e: 19\n",
            "pre_loss: 7.83, loss_ss: 4.02, loss_tt: 2.92, loss_adv: 0.79\n",
            "discriminator_loss: 0.10, D_real: 0.07, D_fake: 0.03\n",
            "e: 20\n",
            "pre_loss: 5.91, loss_ss: 3.38, loss_tt: 2.43, loss_adv: 0.05\n",
            "discriminator_loss: 0.90, D_real: 0.25, D_fake: 0.64\n",
            "e: 21\n",
            "pre_loss: 99.88, loss_ss: 3.38, loss_tt: 1.96, loss_adv: 94.51\n",
            "discriminator_loss: 252.04, D_real: 137.17, D_fake: 114.86\n",
            "e: 22\n",
            "pre_loss: 6.94, loss_ss: 3.11, loss_tt: 1.74, loss_adv: 2.07\n",
            "discriminator_loss: 0.86, D_real: 0.63, D_fake: 0.22\n",
            "e: 23\n",
            "pre_loss: 9.15, loss_ss: 4.57, loss_tt: 3.43, loss_adv: 1.02\n",
            "discriminator_loss: 0.13, D_real: 0.09, D_fake: 0.04\n",
            "e: 24\n",
            "pre_loss: 11.13, loss_ss: 3.72, loss_tt: 2.39, loss_adv: 4.97\n",
            "discriminator_loss: 20.43, D_real: 10.01, D_fake: 10.42\n",
            "e: 25\n",
            "pre_loss: 6.74, loss_ss: 3.17, loss_tt: 1.99, loss_adv: 1.57\n",
            "discriminator_loss: 0.40, D_real: 0.32, D_fake: 0.07\n",
            "e: 26\n",
            "pre_loss: 8.78, loss_ss: 4.13, loss_tt: 2.86, loss_adv: 1.71\n",
            "discriminator_loss: 4.38, D_real: 3.77, D_fake: 0.61\n",
            "e: 27\n",
            "pre_loss: 9.83, loss_ss: 4.16, loss_tt: 2.69, loss_adv: 2.90\n",
            "discriminator_loss: 2.59, D_real: 0.72, D_fake: 1.87\n",
            "e: 28\n",
            "pre_loss: 8.38, loss_ss: 4.27, loss_tt: 2.96, loss_adv: 1.10\n",
            "discriminator_loss: 0.62, D_real: 0.55, D_fake: 0.07\n",
            "e: 29\n",
            "pre_loss: 8.39, loss_ss: 4.29, loss_tt: 2.90, loss_adv: 1.14\n",
            "discriminator_loss: 0.24, D_real: 0.22, D_fake: 0.02\n",
            "e: 30\n",
            "pre_loss: 7.94, loss_ss: 4.23, loss_tt: 2.80, loss_adv: 0.87\n",
            "discriminator_loss: 0.09, D_real: 0.08, D_fake: 0.01\n",
            "e: 31\n",
            "pre_loss: 8.30, loss_ss: 4.09, loss_tt: 2.64, loss_adv: 1.53\n",
            "discriminator_loss: 0.19, D_real: 0.13, D_fake: 0.06\n",
            "e: 32\n",
            "pre_loss: 8.26, loss_ss: 3.91, loss_tt: 2.47, loss_adv: 1.83\n",
            "discriminator_loss: 0.41, D_real: 0.28, D_fake: 0.13\n",
            "e: 33\n",
            "pre_loss: 7.43, loss_ss: 3.65, loss_tt: 2.32, loss_adv: 1.42\n",
            "discriminator_loss: 0.19, D_real: 0.14, D_fake: 0.05\n",
            "e: 34\n",
            "pre_loss: 6.90, loss_ss: 3.49, loss_tt: 2.24, loss_adv: 1.14\n",
            "discriminator_loss: 0.07, D_real: 0.04, D_fake: 0.03\n",
            "e: 35\n",
            "pre_loss: 6.53, loss_ss: 3.29, loss_tt: 2.07, loss_adv: 1.14\n",
            "discriminator_loss: 0.06, D_real: 0.02, D_fake: 0.04\n",
            "e: 36\n",
            "pre_loss: 8.11, loss_ss: 4.22, loss_tt: 2.72, loss_adv: 1.10\n",
            "discriminator_loss: 0.16, D_real: 0.11, D_fake: 0.05\n",
            "e: 37\n",
            "pre_loss: 7.89, loss_ss: 4.17, loss_tt: 2.60, loss_adv: 1.07\n",
            "discriminator_loss: 0.04, D_real: 0.02, D_fake: 0.02\n",
            "e: 38\n",
            "pre_loss: 6.79, loss_ss: 4.14, loss_tt: 2.45, loss_adv: 0.16\n",
            "discriminator_loss: 4.00, D_real: 2.09, D_fake: 1.91\n",
            "e: 39\n",
            "pre_loss: 13.91, loss_ss: 3.97, loss_tt: 2.28, loss_adv: 7.62\n",
            "discriminator_loss: 30.48, D_real: 16.38, D_fake: 14.11\n",
            "e: 40\n",
            "pre_loss: 6.91, loss_ss: 3.72, loss_tt: 2.21, loss_adv: 0.93\n",
            "discriminator_loss: 0.02, D_real: 0.01, D_fake: 0.02\n",
            "e: 41\n",
            "pre_loss: 6.41, loss_ss: 3.48, loss_tt: 2.30, loss_adv: 0.60\n",
            "discriminator_loss: 0.09, D_real: 0.03, D_fake: 0.07\n",
            "e: 42\n",
            "pre_loss: 5.26, loss_ss: 3.12, loss_tt: 2.04, loss_adv: 0.09\n",
            "discriminator_loss: 0.94, D_real: 0.37, D_fake: 0.57\n",
            "e: 43\n",
            "pre_loss: 14.03, loss_ss: 3.05, loss_tt: 1.88, loss_adv: 9.09\n",
            "discriminator_loss: 9.09, D_real: 5.02, D_fake: 4.07\n",
            "e: 44\n",
            "pre_loss: 8.39, loss_ss: 3.01, loss_tt: 1.75, loss_adv: 3.61\n",
            "discriminator_loss: 1.94, D_real: 1.12, D_fake: 0.81\n",
            "e: 45\n",
            "pre_loss: 10.83, loss_ss: 2.95, loss_tt: 1.63, loss_adv: 6.23\n",
            "discriminator_loss: 4.93, D_real: 2.70, D_fake: 2.24\n",
            "e: 46\n",
            "pre_loss: 4.63, loss_ss: 2.85, loss_tt: 1.38, loss_adv: 0.39\n",
            "discriminator_loss: 0.20, D_real: 0.05, D_fake: 0.14\n"
          ]
        }
      ]
    },
    {
      "cell_type": "code",
      "execution_count": null,
      "metadata": {
        "id": "fYMK4s7EdbsO"
      },
      "outputs": [],
      "source": [
        "'''Tensor = torch.cuda.FloatTensor if cuda else torch.Tensor\n",
        "\n",
        "real_label = Variable(Tensor(batchSize).fill_(1.0), requires_grad=False)\n",
        "fake_label = Variable(Tensor(batchSize).fill_(0.0), requires_grad=False)\n",
        "real_label = real_label[:, None]\n",
        "fake_label = fake_label[:, None]\n",
        "\n",
        "\n",
        "input_A = Tensor(batchSize, 3, image_size, image_size)\n",
        "input_B = Tensor(batchSize, 3, image_size, image_size)\n",
        "\n",
        "for epoch in range(0, 200):\n",
        "    i = -1\n",
        "    for batchA, batchB in zip(target_train, source_train):\n",
        "        i+= 1\n",
        "        real_A = Variable(input_A.copy_(batchA[0]))\n",
        "        real_B = Variable(input_B.copy_(batchB[0]))\n",
        "\n",
        "        optimizer_pre.zero_grad()\n",
        "        mixed_image, reconstructionA, reconstructionB = perceptual(real_A, real_B)\n",
        "\n",
        "        loss_ss = criterion_construct(reconstructionA, real_A) * 15.0\n",
        "        loss_tt = criterion_construct(reconstructionB, real_B) * 15.0\n",
        "\n",
        "        TV_loss = total_variation_loss(mixed_image)\n",
        "        pred_fake = discriminator(mixed_image)\n",
        "        loss_adv = criterion_adv(pred_fake, real_label)\n",
        "\n",
        "        cuda_mixed_image = mixed_image.clone().requires_grad_(True).cuda()\n",
        "        cuda_real_A = real_A.clone().requires_grad_(True).cuda()\n",
        "        cuda_real_B = real_B.clone().requires_grad_(True).cuda()\n",
        "        style_features = get_features(cuda_real_A, vgg)\n",
        "        content_features = get_features(cuda_real_B, vgg)\n",
        "        target_features = get_features(cuda_mixed_image, vgg)\n",
        "\n",
        "        content_loss = compute_content_loss(target_features['conv4_2'], content_features['conv4_2']) * 0.1\n",
        "        style_loss = compute_style_loss(style_features, target_features) * 0.05\n",
        "\n",
        "        preceptual_loss = loss_ss + loss_tt + TV_loss + loss_adv + content_loss + style_loss\n",
        "\n",
        "        preceptual_loss.backward()\n",
        "        optimizer_pre.step()\n",
        "\n",
        "        optimizer_dis.zero_grad()\n",
        "\n",
        "        pred_real = discriminator(real_A)\n",
        "        pred_fake = discriminator(mixed_image.detach())\n",
        "\n",
        "        loss_dis_real = criterion_discriminator(pred_real, real_label)\n",
        "        loss_dis_fake = criterion_discriminator(pred_fake, fake_label)\n",
        "\n",
        "        discriminator_loss = loss_dis_real + loss_dis_fake\n",
        "        discriminator_loss.backward()\n",
        "        optimizer_dis.step()\n",
        "\n",
        "        if  i % 200 == 0:\n",
        "            real_A = real_A.data\n",
        "            real_B = real_B.data\n",
        "            mixed_image = mixed_image.data\n",
        "            reconstructionA = reconstructionA.data\n",
        "            reconstructionB = reconstructionB.data\n",
        "\n",
        "            save_image(real_A, './output/%03d/%d_A.png' % ( epoch, i))\n",
        "            save_image(real_B, 'output/%03d/%d_B.png' % ( epoch, i))\n",
        "            save_image(reconstructionA, 'output/%03d/%d_reconA.png' % ( epoch, i))\n",
        "            save_image(reconstructionB, 'output/%03d/%d_reconB.png' % ( epoch, i))\n",
        "            save_image(mixed_image, 'output/%03d/%d_Mixed.png' % ( epoch, i))\n",
        "\n",
        "    print (\"e: %d\" % epoch)    \n",
        "    print (\"pre_loss: %.2f, loss_ss: %.2f, loss_tt: %.2f, loss_adv: %.2f, content: %.2f, style: %.2f\" % (preceptual_loss, loss_ss, loss_tt, loss_adv, content_loss, style_loss))\n",
        "    print (\"discriminator_loss: %.2f, D_real: %.2f, D_fake: %.2f\" % (discriminator_loss, loss_dis_real, loss_dis_fake))\n",
        "\n",
        "    scheduler_pre.step()\n",
        "    scheduler_dis.step()\n",
        "    '''"
      ]
    },
    {
      "cell_type": "code",
      "execution_count": null,
      "metadata": {
        "id": "WAcUzkPxdbsO"
      },
      "outputs": [],
      "source": [
        "torch.save(perceptual, \"./model_weight/perceptual\")\n",
        "torch.save(discriminator, \"./model_weight/discriminator\")"
      ]
    },
    {
      "cell_type": "markdown",
      "source": [
        "# Resulting image"
      ],
      "metadata": {
        "id": "3mtbjZVKba5q"
      }
    },
    {
      "cell_type": "code",
      "source": [
        "image = imread('./output/199/400_Mixed.png')\n",
        "\n",
        "plt.imshow(image)"
      ],
      "metadata": {
        "id": "5zOTBBi04khW"
      },
      "execution_count": null,
      "outputs": []
    },
    {
      "cell_type": "code",
      "source": [
        "image = imread('./output/199/400_reconB.png')\n",
        "\n",
        "plt.imshow(image)"
      ],
      "metadata": {
        "id": "qKxxfZPF4pBM"
      },
      "execution_count": null,
      "outputs": []
    }
  ],
  "metadata": {
    "accelerator": "GPU",
    "colab": {
      "name": "my_model.ipynb",
      "provenance": []
    },
    "interpreter": {
      "hash": "0abf52f7dff1bbf2191b90c10bb43e97e891f8d70dafe2d0c71717742c591866"
    },
    "kernelspec": {
      "display_name": "Python 3.8.12 ('ml')",
      "language": "python",
      "name": "python3"
    },
    "language_info": {
      "codemirror_mode": {
        "name": "ipython",
        "version": 3
      },
      "file_extension": ".py",
      "mimetype": "text/x-python",
      "name": "python",
      "nbconvert_exporter": "python",
      "pygments_lexer": "ipython3",
      "version": "3.8.12"
    },
    "orig_nbformat": 4
  },
  "nbformat": 4,
  "nbformat_minor": 0
}