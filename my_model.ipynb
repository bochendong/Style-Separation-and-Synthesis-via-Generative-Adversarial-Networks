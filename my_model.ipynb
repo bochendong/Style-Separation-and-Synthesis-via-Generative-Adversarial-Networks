{
  "cells": [
    {
      "cell_type": "code",
      "execution_count": 1,
      "metadata": {
        "id": "tAz7koKv1MB5"
      },
      "outputs": [],
      "source": [
        "import torch.nn as nn\n",
        "import torch.nn.functional as F\n",
        "import torch\n",
        "\n",
        "from torch.autograd import Variable\n",
        "import torch.backends.cudnn as cudnn\n",
        "\n",
        "from torchvision.utils import save_image\n",
        "\n",
        "import numpy as np\n",
        "\n",
        "import matplotlib.pyplot as plt\n",
        "import os\n",
        "from torch.utils.data import DataLoader,Dataset\n",
        "from torchvision import transforms, models, datasets"
      ]
    },
    {
      "cell_type": "code",
      "execution_count": 95,
      "metadata": {},
      "outputs": [],
      "source": [
        "import glob"
      ]
    },
    {
      "cell_type": "code",
      "execution_count": 96,
      "metadata": {},
      "outputs": [
        {
          "data": {
            "text/plain": [
              "True"
            ]
          },
          "execution_count": 96,
          "metadata": {},
          "output_type": "execute_result"
        }
      ],
      "source": [
        "os.path.exists(\"./output/000\")"
      ]
    },
    {
      "cell_type": "code",
      "execution_count": 97,
      "metadata": {
        "colab": {
          "base_uri": "https://localhost:8080/",
          "height": 35
        },
        "id": "2i0ul1TdfDUu",
        "outputId": "f9747186-881c-4c90-98a8-8a670c7489f9"
      },
      "outputs": [],
      "source": [
        "for epoch in range (200):\n",
        "  if (os.path.exists(\"./output/000\")) == False:\n",
        "    os.mkdir(\"./output/%03d\" % epoch)\n",
        "  else:\n",
        "    files = glob.glob(\"./output/%03d/*.png\" % epoch)\n",
        "\n",
        "    for f in files:\n",
        "      os.remove(f)"
      ]
    },
    {
      "cell_type": "markdown",
      "metadata": {
        "id": "VUJIfmDn1MCx"
      },
      "source": [
        "# Data"
      ]
    },
    {
      "cell_type": "code",
      "execution_count": 98,
      "metadata": {
        "colab": {
          "base_uri": "https://localhost:8080/"
        },
        "id": "EpbqReAb2ZWC",
        "outputId": "03e48cfe-43a9-4310-ee0d-c0333f2a72a3"
      },
      "outputs": [
        {
          "name": "stderr",
          "output_type": "stream",
          "text": [
            "C:\\Users\\55366\\AppData\\Local\\Temp\\ipykernel_56604\\4071975017.py:9: VisibleDeprecationWarning: Creating an ndarray from ragged nested sequences (which is a list-or-tuple of lists-or-tuples-or ndarrays with different lengths or shapes) is deprecated. If you meant to do this, you must specify 'dtype=object' when creating the ndarray.\n",
            "  return np.array(backgrounds)\n"
          ]
        }
      ],
      "source": [
        "device = torch.device('cuda:0' if torch.cuda.is_available() else 'cpu')\n",
        "\n",
        "\n",
        "def get_backgrounds():\n",
        "    backgrounds = []\n",
        "    for file in os.listdir(\"./images/train\"):\n",
        "        if file.endswith('.jpg'):\n",
        "            backgrounds.append(plt.imread(os.path.join(\"./images/train\",file)))\n",
        "    return np.array(backgrounds)\n",
        "backgrounds = get_backgrounds()\n",
        "\n",
        "\n",
        "def compose_image(image):\n",
        "    image = (image > 0).astype(np.float32)\n",
        "    image = image.reshape([28,28])*255.0\n",
        "    \n",
        "    image = np.stack([image,image,image],axis=2)\n",
        "    \n",
        "    background = np.random.choice(backgrounds)\n",
        "    w,h,_ = background.shape\n",
        "    dw, dh,_ = image.shape\n",
        "    x = np.random.randint(0,w-dw)\n",
        "    y = np.random.randint(0,h-dh)\n",
        "    \n",
        "    temp = background[x:x+dw, y:y+dh]\n",
        "    return np.abs(temp-image).astype(np.uint8)\n",
        "\n",
        "\n",
        "class MNISTM(Dataset):\n",
        "            \n",
        "    def __init__(self, train=True,transform=None):\n",
        "        if train:\n",
        "            self.data = datasets.MNIST(root='.data/mnist',train=True, download=True)\n",
        "        else:\n",
        "            self.data = datasets.MNIST(root='.data/mnist',train=False, download=True)\n",
        "        self.backgrounds = get_backgrounds()\n",
        "        self.transform = transform\n",
        "        self.images = []\n",
        "        self.targets = []\n",
        "        for index in range(len(self.data)):\n",
        "            image = np.array(self.data.__getitem__(index)[0])\n",
        "            target = self.data.__getitem__(index)[1]\n",
        "            image = compose_image(image)\n",
        "            if self.transform is not None:\n",
        "                image = self.transform(image)\n",
        "            self.images.append(image)\n",
        "            self.targets.append(target)\n",
        "        \n",
        "    def __getitem__(self,index):\n",
        "        \n",
        "        #image = Image.fromarray(image.squeeze(), mode=\"RGB\")\n",
        "        image = self.images[index]\n",
        "        target = self.targets[index]\n",
        "        \n",
        "        return image, target\n",
        "        \n",
        "    def __len__(self):\n",
        "        return len(self.data)\n",
        "    \n",
        "def get_mnistm_loaders(data_aug = False, batch_size=128,test_batch_size=1000):\n",
        "    if data_aug:\n",
        "        train_transform = transforms.Compose([\n",
        "            transforms.ToPILImage(),\n",
        "            transforms.Resize(64),\n",
        "            transforms.RandomCrop(64,padding=4),\n",
        "            transforms.ToTensor()\n",
        "        ])\n",
        "    else:\n",
        "        train_transform = transforms.Compose([\n",
        "            transforms.ToPILImage(),\n",
        "            transforms.Resize(64),\n",
        "            transforms.ToTensor()\n",
        "        ])\n",
        "    test_transform = transforms.Compose([\n",
        "        transforms.ToPILImage(),\n",
        "        transforms.Resize(64),\n",
        "        transforms.ToTensor()\n",
        "    ])\n",
        "    \n",
        "    kwargs = {}\n",
        "    train_loader = DataLoader(\n",
        "        MNISTM(train=True,transform=train_transform),batch_size=batch_size, shuffle=True, drop_last=True)\n",
        "    train_eval_loader = DataLoader(\n",
        "        MNISTM(train=True, transform=test_transform),batch_size=test_batch_size, shuffle=False, drop_last=True)\n",
        "    test_loader = DataLoader(\n",
        "        MNISTM(train=False,transform=test_transform),batch_size=test_batch_size, shuffle=False, drop_last=True)\n",
        "    return train_loader, train_eval_loader, test_loader\n",
        "\n",
        "\n",
        "def get_mnist_loaders(data_aug = False, batch_size=128,test_batch_size=1000):\n",
        "    if data_aug:\n",
        "        train_transform = transforms.Compose(\n",
        "            [transforms.Resize(64),\n",
        "            transforms.RandomCrop(64,padding=4),\n",
        "            transforms.Grayscale(3),\n",
        "            transforms.ToTensor()\n",
        "        ])\n",
        "    else:\n",
        "        train_transform = transforms.Compose([\n",
        "            transforms.Resize(64),\n",
        "            transforms.Grayscale(3),\n",
        "            transforms.ToTensor()\n",
        "        ])\n",
        "    test_transform = transforms.Compose([\n",
        "        transforms.Resize(64),\n",
        "        transforms.Grayscale(3),\n",
        "        transforms.ToTensor()\n",
        "    ])\n",
        "    kwargs = {}\n",
        "\n",
        "    train_loader = DataLoader(\n",
        "        datasets.MNIST(root='.data/mnist',train=True, download=True,transform=train_transform),batch_size=batch_size, shuffle=True, drop_last=True)\n",
        "    train_eval_loader = DataLoader(\n",
        "        datasets.MNIST(root='.data/mnist',train=True, download=True, transform=test_transform),batch_size=test_batch_size, shuffle=False, drop_last=True)\n",
        "    test_loader = DataLoader(\n",
        "        datasets.MNIST(root='.data/mnist',train=False, download=True, transform=test_transform),batch_size=test_batch_size, shuffle=False, drop_last=True)\n",
        "    return train_loader, train_eval_loader, test_loader"
      ]
    },
    {
      "cell_type": "code",
      "execution_count": 99,
      "metadata": {
        "colab": {
          "base_uri": "https://localhost:8080/"
        },
        "id": "Y6fVcaJx1MDC",
        "outputId": "477ee84d-e0f4-4770-f258-4d26c5855e03"
      },
      "outputs": [
        {
          "name": "stderr",
          "output_type": "stream",
          "text": [
            "C:\\Users\\55366\\AppData\\Local\\Temp\\ipykernel_56604\\4071975017.py:9: VisibleDeprecationWarning: Creating an ndarray from ragged nested sequences (which is a list-or-tuple of lists-or-tuples-or ndarrays with different lengths or shapes) is deprecated. If you meant to do this, you must specify 'dtype=object' when creating the ndarray.\n",
            "  return np.array(backgrounds)\n"
          ]
        }
      ],
      "source": [
        "loader_source, mnist_eval_loader, mnist_test_loader = get_mnist_loaders(batch_size=16)\n",
        "loader_target, mnistm_eval_loader,mnistm_test_loader = get_mnistm_loaders(batch_size=16)"
      ]
    },
    {
      "cell_type": "markdown",
      "metadata": {
        "id": "tj4IrxmY1MDH"
      },
      "source": [
        "# Module"
      ]
    },
    {
      "cell_type": "markdown",
      "metadata": {
        "id": "HT3A3kJ81MDH"
      },
      "source": [
        "## Encoder"
      ]
    },
    {
      "cell_type": "code",
      "execution_count": 2,
      "metadata": {
        "id": "rMKoBFzV1MDI"
      },
      "outputs": [],
      "source": [
        "class Encoder(nn.Module):\n",
        "    def __init__(self, input_nc=3):\n",
        "        super(Encoder, self).__init__()\n",
        "        self.model = nn.Sequential(\n",
        "                nn.ReflectionPad2d(3),\n",
        "                nn.Conv2d(input_nc, 64, 7),\n",
        "                nn.InstanceNorm2d(64),\n",
        "                nn.ReLU(inplace=True),\n",
        "\n",
        "                nn.Conv2d(64, 128, 3, stride=2, padding=1),\n",
        "                nn.InstanceNorm2d(128),\n",
        "                nn.ReLU(inplace=True),\n",
        "\n",
        "                nn.Conv2d(128, 256, 3, stride=2, padding=1),\n",
        "                nn.InstanceNorm2d(256),\n",
        "                nn.ReLU(inplace=True),\n",
        "\n",
        "                nn.Conv2d(256, 512, 3, stride=2, padding=1),\n",
        "                nn.InstanceNorm2d(512),\n",
        "                nn.ReLU(inplace=True),\n",
        "\n",
        "                nn.Conv2d(512, 1024, 3, stride=2, padding=1),\n",
        "                nn.InstanceNorm2d(1024),\n",
        "                nn.ReLU(inplace=True)\n",
        "        )\n",
        "\n",
        "    def forward(self, x):\n",
        "        return self.model(x)\n"
      ]
    },
    {
      "cell_type": "markdown",
      "metadata": {
        "id": "M5UjPnOT1MDK"
      },
      "source": [
        "## Decoder"
      ]
    },
    {
      "cell_type": "code",
      "execution_count": 14,
      "metadata": {
        "id": "dfY5x_re1MDL"
      },
      "outputs": [],
      "source": [
        "class Decoder(nn.Module):\n",
        "    def __init__(self, input_nc=1024, output_nc=3):\n",
        "        super(Decoder, self).__init__()\n",
        "\n",
        "        self.model = nn.Sequential(\n",
        "            nn.ConvTranspose2d(input_nc, 512, 3, stride=2, padding=1, output_padding=1),\n",
        "            nn.InstanceNorm2d(512),\n",
        "            nn.ReLU(inplace=True),\n",
        "\n",
        "            nn.ConvTranspose2d(512, 256, 3, stride=2, padding=1, output_padding=1),\n",
        "            nn.InstanceNorm2d(256),\n",
        "            nn.ReLU(inplace=True),\n",
        "\n",
        "            nn.ConvTranspose2d(256, 128, 3, stride=2, padding=1, output_padding=1),\n",
        "            nn.InstanceNorm2d(128),\n",
        "            nn.ReLU(inplace=True),\n",
        "\n",
        "            nn.ConvTranspose2d(128, 64, 3, stride=2, padding=1, output_padding=1),\n",
        "            nn.InstanceNorm2d(64),\n",
        "            nn.ReLU(inplace=True),\n",
        "\n",
        "            nn.ReflectionPad2d(3),\n",
        "            nn.Conv2d(64, output_nc, 7),\n",
        "            nn.InstanceNorm2d(3),\n",
        "            nn.Tanh()\n",
        "        )\n",
        "\n",
        "    def forward(self, x):\n",
        "        return self.model(x)"
      ]
    },
    {
      "cell_type": "markdown",
      "metadata": {
        "id": "Czg9UEQ21MDM"
      },
      "source": [
        "## Identity Generator"
      ]
    },
    {
      "cell_type": "code",
      "execution_count": 4,
      "metadata": {
        "id": "W1_Rd4371MDN"
      },
      "outputs": [],
      "source": [
        "class Identity_Generator(nn.Module):\n",
        "    def __init__(self, encoder, decoder):\n",
        "        super(Identity_Generator, self).__init__()\n",
        "        self.encoder = encoder\n",
        "        self.decoder = decoder\n",
        "\n",
        "    def forward(self, A, B):\n",
        "        latentA = self.encoder(A)\n",
        "        latentB = self.encoder(B)\n",
        "\n",
        "        reconstructedA = self.decoder(latentA)\n",
        "        reconstructedB = self.decoder(latentB)\n",
        "        return reconstructedA, reconstructedB"
      ]
    },
    {
      "cell_type": "markdown",
      "metadata": {
        "id": "5kV1qBY41MDO"
      },
      "source": [
        "## Perceptual"
      ]
    },
    {
      "cell_type": "code",
      "execution_count": 27,
      "metadata": {},
      "outputs": [],
      "source": [
        "class Perceptual(nn.Module):\n",
        "    def __init__(self):\n",
        "        super(Perceptual, self).__init__()\n",
        "\n",
        "        self.encoder = nn.Sequential(\n",
        "                nn.ReflectionPad2d(3),\n",
        "                nn.Conv2d(3, 64, 7),\n",
        "                nn.InstanceNorm2d(64),\n",
        "                nn.ReLU(inplace=True),\n",
        "\n",
        "                nn.Conv2d(64, 128, 3, stride=2, padding=1),\n",
        "                nn.InstanceNorm2d(128),\n",
        "                nn.ReLU(inplace=True),\n",
        "\n",
        "                nn.Conv2d(128, 256, 3, stride=2, padding=1),\n",
        "                nn.InstanceNorm2d(256),\n",
        "                nn.ReLU(inplace=True),\n",
        "\n",
        "                nn.Conv2d(256, 512, 3, stride=2, padding=1),\n",
        "                nn.InstanceNorm2d(512),\n",
        "                nn.ReLU(inplace=True),\n",
        "\n",
        "                nn.Conv2d(512, 1024, 3, stride=2, padding=1),\n",
        "                nn.InstanceNorm2d(1024),\n",
        "                nn.ReLU(inplace=True)\n",
        "        )\n",
        "        self.decoder = nn.Sequential(\n",
        "            nn.ConvTranspose2d(1024, 512, 3, stride=2, padding=1, output_padding=1),\n",
        "            nn.InstanceNorm2d(512),\n",
        "            nn.ReLU(inplace=True),\n",
        "\n",
        "            nn.ConvTranspose2d(512, 256, 3, stride=2, padding=1, output_padding=1),\n",
        "            nn.InstanceNorm2d(256),\n",
        "            nn.ReLU(inplace=True),\n",
        "\n",
        "            nn.ConvTranspose2d(256, 128, 3, stride=2, padding=1, output_padding=1),\n",
        "            nn.InstanceNorm2d(128),\n",
        "            nn.ReLU(inplace=True),\n",
        "\n",
        "            nn.ConvTranspose2d(128, 64, 3, stride=2, padding=1, output_padding=1),\n",
        "            nn.InstanceNorm2d(64),\n",
        "            nn.ReLU(inplace=True),\n",
        "\n",
        "            nn.ReflectionPad2d(3),\n",
        "            nn.Conv2d(64, 3, 7),\n",
        "            nn.InstanceNorm2d(3),\n",
        "            nn.Tanh()\n",
        "        )\n",
        "\n",
        "    def forward(self, A, B):\n",
        "        encode_A = self.encoder(A)\n",
        "        encode_B = self.encoder(B)\n",
        "        reconstructedA = self.decoder(encode_A)\n",
        "        reconstructedB = self.decoder(encode_B)\n",
        "\n",
        "        encode_A.detach()\n",
        "        encode_B.detach()\n",
        "\n",
        "        style = encode_A[:, 0:512, : , :]\n",
        "        content = encode_B[:, 512:1024, :, :]\n",
        "        \n",
        "        mixed_latent = torch.cat([style, content], dim=1)\n",
        "        mixed_image = self.decoder(mixed_latent)\n",
        "\n",
        "        return mixed_image, reconstructedA, reconstructedB"
      ]
    },
    {
      "cell_type": "markdown",
      "metadata": {
        "id": "HLubC4sJ1MDd"
      },
      "source": [
        "## Discriminator"
      ]
    },
    {
      "cell_type": "code",
      "execution_count": 6,
      "metadata": {
        "id": "67DdNmWP1MDd"
      },
      "outputs": [],
      "source": [
        "class Discriminator(nn.Module):\n",
        "    def __init__(self, input_nc = 3):\n",
        "        super(Discriminator, self).__init__()\n",
        "        self.model = nn.Sequential(\n",
        "            nn.Conv2d(input_nc, 64, 4, stride=2, padding=1),\n",
        "            nn.LeakyReLU(0.2, inplace=True),\n",
        "\n",
        "            nn.Conv2d(64, 128, 4, padding=1),\n",
        "            nn.InstanceNorm2d(128), \n",
        "            nn.LeakyReLU(0.2, inplace=True),\n",
        "\n",
        "            nn.Conv2d(128, 256, 4, stride=2, padding=1),\n",
        "            nn.InstanceNorm2d(256), \n",
        "            nn.LeakyReLU(0.2, inplace=True),\n",
        "\n",
        "            nn.Conv2d(256, 512, 4, stride=2, padding=1),\n",
        "            nn.InstanceNorm2d(256), \n",
        "            nn.LeakyReLU(0.2, inplace=True),\n",
        "\n",
        "            nn.Conv2d(512, 1, 4, padding=1)\n",
        "        )\n",
        "\n",
        "\n",
        "    def forward(self, x):\n",
        "        x =  self.model(x)\n",
        "        return F.avg_pool2d(x, x.size()[2:]).view(x.size()[0], -1)"
      ]
    },
    {
      "cell_type": "markdown",
      "metadata": {
        "id": "wxtkw7_W1MDe"
      },
      "source": [
        "## Model test"
      ]
    },
    {
      "cell_type": "code",
      "execution_count": 28,
      "metadata": {
        "id": "86m4eeH01MDe"
      },
      "outputs": [],
      "source": [
        "test_tensor_source = torch.rand(20, 3, 64, 64)\n",
        "test_tensor_target = torch.rand(20, 3, 64, 64)\n",
        "\n",
        "perceptual = Perceptual()\n",
        "discriminator = Discriminator()"
      ]
    },
    {
      "cell_type": "code",
      "execution_count": 29,
      "metadata": {
        "colab": {
          "base_uri": "https://localhost:8080/"
        },
        "id": "rZh-K2321MDh",
        "outputId": "912b37e5-ab24-4162-eeaa-d31e28522a26"
      },
      "outputs": [
        {
          "name": "stdout",
          "output_type": "stream",
          "text": [
            "torch.Size([20, 3, 64, 64])\n",
            "torch.Size([20, 3, 64, 64])\n",
            "torch.Size([20, 3, 64, 64])\n"
          ]
        }
      ],
      "source": [
        "mix, output_a, output_b = perceptual(test_tensor_source, test_tensor_target)\n",
        "\n",
        "print(mix.size())\n",
        "print(output_a.size())\n",
        "print(output_b.size())"
      ]
    },
    {
      "cell_type": "code",
      "execution_count": 30,
      "metadata": {
        "colab": {
          "base_uri": "https://localhost:8080/"
        },
        "id": "v1-Tuees1MDi",
        "outputId": "177105be-9baf-45d9-fa06-5e7ae270e67a"
      },
      "outputs": [
        {
          "name": "stdout",
          "output_type": "stream",
          "text": [
            "torch.Size([20, 1])\n"
          ]
        }
      ],
      "source": [
        "output = discriminator(test_tensor_source)\n",
        "print(output.size())"
      ]
    },
    {
      "cell_type": "code",
      "execution_count": 31,
      "metadata": {
        "colab": {
          "base_uri": "https://localhost:8080/"
        },
        "id": "eRlWrUEFTpLX",
        "outputId": "3aca579d-f7ab-4f91-d53e-1f20498126b0"
      },
      "outputs": [
        {
          "name": "stdout",
          "output_type": "stream",
          "text": [
            "tensor([ 0.2579, -0.2416,  0.0964,  1.2266,  1.3237,  0.6352, -0.3108,  0.9131,\n",
            "        -0.7289, -0.4677,  0.5602,  0.3801, -0.8635,  0.1178,  0.4716,  0.4965,\n",
            "         0.2412, -0.7411, -1.1922, -0.6741,  0.0059, -0.3301, -0.3498, -0.0460,\n",
            "         0.7104,  0.5532,  0.0353,  0.2016, -0.3188,  0.4341,  0.7073, -0.6594,\n",
            "        -0.9747, -0.5914, -0.7311, -0.3820,  0.4321,  0.0963, -1.2322,  1.1050,\n",
            "         0.1490,  0.0208,  0.5074, -0.1431, -0.0056, -0.1938, -1.2501,  0.6673,\n",
            "        -0.8977,  0.4970,  0.5564,  0.3826,  1.0094, -0.1623,  0.8489, -0.5292,\n",
            "         0.4148, -0.0783, -0.7048,  0.5939,  0.0921,  0.1221,  0.3708, -0.3768],\n",
            "       grad_fn=<SubBackward0>)\n"
          ]
        }
      ],
      "source": [
        "print(mix[0][0][0] - output_a[0][0][0])"
      ]
    },
    {
      "cell_type": "markdown",
      "metadata": {
        "id": "sPaeTfIX1MDk"
      },
      "source": [
        "# Loss"
      ]
    },
    {
      "cell_type": "code",
      "execution_count": 114,
      "metadata": {
        "id": "6EkNLO_T1MDk"
      },
      "outputs": [],
      "source": [
        "def tv_loss(img, tv_weight=5e-2):\n",
        "    w_variance = torch.sum(torch.pow(img[:,:,:,:-1] - img[:,:,:,1:], 2))\n",
        "    h_variance = torch.sum(torch.pow(img[:,:,:-1,:] - img[:,:,1:,:], 2))\n",
        "    loss = tv_weight * (h_variance + w_variance)\n",
        "    return loss\n",
        "\n",
        "def total_variation_loss(img, weight=5e-2):\n",
        "    bs_img, c_img, h_img, w_img = img.size()\n",
        "    tv_h = torch.pow(img[:, :, 1:, :] - img[:, :, :-1, :], 2).sum()\n",
        "    tv_w = torch.pow(img[:, :, :, 1:] - img[:, :, :, :-1], 2).sum()\n",
        "    return weight * (tv_h + tv_w) / (bs_img * c_img * h_img * w_img)\n",
        "\n",
        "def compute_content_loss(target_feature, content_feature):\n",
        "    return torch.mean((target_feature - content_feature)**2)\n",
        "\n",
        "def batch_gram_matrix(img):\n",
        "    \"\"\"\n",
        "    Compute the gram matrix by converting to 2D tensor and doing dot product\n",
        "    img: (batch, channel/depth, height, width)\n",
        "    \"\"\"\n",
        "    b, d, h, w = img.size()\n",
        "    img = img.view(b*d, h*w) # fix the dimension. It doesn't make sense to put b=1 when it's not always the case\n",
        "    gram = torch.mm(img, img.t())\n",
        "    return gram\n",
        "\n",
        "style_weights = {'conv1_1': 1.,\n",
        "                 'conv2_1': 0.75,\n",
        "                 'conv3_1': 0.2,\n",
        "                 'conv4_1': 0.2,\n",
        "                 'conv5_1': 0.2}\n",
        "\n",
        "def compute_style_loss(style_features, target_features):\n",
        "    # the style loss\n",
        "    # initialize the style loss to 0\n",
        "    style_loss = 0\n",
        "    style_grams = {layer: batch_gram_matrix(style_features[layer]) for layer in style_features}\n",
        "    # then add to it for each layer's gram matrix loss\n",
        "    for layer in style_weights:\n",
        "        # get the \"target\" style representation for the layer\n",
        "        target_feature = target_features[layer]\n",
        "        target_gram = batch_gram_matrix(target_feature)\n",
        "        _, d, h, w = target_feature.shape\n",
        "        # get the \"style\" style representation\n",
        "        style_gram = style_grams[layer]\n",
        "        # the style loss for one layer, weighted appropriately\n",
        "        layer_style_loss = style_weights[layer] * torch.mean((target_gram - style_gram) ** 2)\n",
        "        # add to the style loss\n",
        "        style_loss += layer_style_loss / (d * h * w)\n",
        "\n",
        "    return style_loss"
      ]
    },
    {
      "cell_type": "markdown",
      "metadata": {
        "id": "DEujnWnX1MDl"
      },
      "source": [
        "# Training"
      ]
    },
    {
      "cell_type": "markdown",
      "metadata": {
        "id": "O4U1o05Y1MDm"
      },
      "source": [
        "## Training Method"
      ]
    },
    {
      "cell_type": "code",
      "execution_count": 115,
      "metadata": {
        "id": "_L7ExZCq1MDz"
      },
      "outputs": [],
      "source": [
        "def get_features(image, model, layers=None):\n",
        "    if layers is None:\n",
        "        layers = {'0': 'conv1_1',\n",
        "                  '5': 'conv2_1',\n",
        "                  '10': 'conv3_1',\n",
        "                  '19': 'conv4_1',\n",
        "                  '21': 'conv4_2',  ## content representation\n",
        "                  '28': 'conv5_1'}\n",
        "\n",
        "    features_arr = []\n",
        "    features = {}\n",
        "    x = image\n",
        "    # model._modules is a dictionary holding each module in the model\n",
        "    for name, layer in model._modules.items():\n",
        "        x = layer(x)\n",
        "        if name in layers:\n",
        "            features[layers[name]] = x\n",
        "\n",
        "    return features"
      ]
    },
    {
      "cell_type": "markdown",
      "metadata": {
        "id": "EVvM_If_1MD1"
      },
      "source": [
        "## Model hypermeter"
      ]
    },
    {
      "cell_type": "code",
      "execution_count": 117,
      "metadata": {
        "id": "IMp_DtKGNx9t"
      },
      "outputs": [],
      "source": [
        "class LambdaLR():\n",
        "    def __init__(self, n_epochs, offset, decay_start_epoch):\n",
        "        assert ((n_epochs - decay_start_epoch) > 0), \"Decay must start before the training session ends!\"\n",
        "        self.n_epochs = n_epochs\n",
        "        self.offset = offset\n",
        "        self.decay_start_epoch = decay_start_epoch\n",
        "\n",
        "    def step(self, epoch):\n",
        "        return 1.0 - max(0, epoch + self.offset - self.decay_start_epoch)/(self.n_epochs - self.decay_start_epoch)"
      ]
    },
    {
      "cell_type": "code",
      "execution_count": 118,
      "metadata": {
        "id": "TBdlE72j1MD4"
      },
      "outputs": [],
      "source": [
        "perceptual = Perceptual()\n",
        "discriminator = Discriminator()"
      ]
    },
    {
      "cell_type": "code",
      "execution_count": 119,
      "metadata": {
        "id": "Y8zIpzSL1MD5"
      },
      "outputs": [],
      "source": [
        "learning_rate = 0.002\n",
        "beta = (0.5, 0.999)\n",
        "\n",
        "criterion_adv = torch.nn.MSELoss()\n",
        "criterion_discriminator = torch.nn.MSELoss()\n",
        "criterion_construct = torch.nn.L1Loss()\n",
        "\n",
        "optimizer_pre = torch.optim.Adam(perceptual.parameters(), lr=learning_rate, betas=beta)\n",
        "optimizer_dis = torch.optim.Adam(discriminator.parameters(), lr=learning_rate, betas=beta)"
      ]
    },
    {
      "cell_type": "code",
      "execution_count": 120,
      "metadata": {
        "colab": {
          "base_uri": "https://localhost:8080/"
        },
        "id": "OCYbEweS1MD5",
        "outputId": "95ce7cd1-ec0c-4d95-bf49-b088bb2ca1c2"
      },
      "outputs": [
        {
          "data": {
            "text/plain": [
              "Sequential(\n",
              "  (0): Conv2d(3, 64, kernel_size=(3, 3), stride=(1, 1), padding=(1, 1))\n",
              "  (1): ReLU(inplace=True)\n",
              "  (2): Conv2d(64, 64, kernel_size=(3, 3), stride=(1, 1), padding=(1, 1))\n",
              "  (3): ReLU(inplace=True)\n",
              "  (4): MaxPool2d(kernel_size=2, stride=2, padding=0, dilation=1, ceil_mode=False)\n",
              "  (5): Conv2d(64, 128, kernel_size=(3, 3), stride=(1, 1), padding=(1, 1))\n",
              "  (6): ReLU(inplace=True)\n",
              "  (7): Conv2d(128, 128, kernel_size=(3, 3), stride=(1, 1), padding=(1, 1))\n",
              "  (8): ReLU(inplace=True)\n",
              "  (9): MaxPool2d(kernel_size=2, stride=2, padding=0, dilation=1, ceil_mode=False)\n",
              "  (10): Conv2d(128, 256, kernel_size=(3, 3), stride=(1, 1), padding=(1, 1))\n",
              "  (11): ReLU(inplace=True)\n",
              "  (12): Conv2d(256, 256, kernel_size=(3, 3), stride=(1, 1), padding=(1, 1))\n",
              "  (13): ReLU(inplace=True)\n",
              "  (14): Conv2d(256, 256, kernel_size=(3, 3), stride=(1, 1), padding=(1, 1))\n",
              "  (15): ReLU(inplace=True)\n",
              "  (16): Conv2d(256, 256, kernel_size=(3, 3), stride=(1, 1), padding=(1, 1))\n",
              "  (17): ReLU(inplace=True)\n",
              "  (18): MaxPool2d(kernel_size=2, stride=2, padding=0, dilation=1, ceil_mode=False)\n",
              "  (19): Conv2d(256, 512, kernel_size=(3, 3), stride=(1, 1), padding=(1, 1))\n",
              "  (20): ReLU(inplace=True)\n",
              "  (21): Conv2d(512, 512, kernel_size=(3, 3), stride=(1, 1), padding=(1, 1))\n",
              "  (22): ReLU(inplace=True)\n",
              "  (23): Conv2d(512, 512, kernel_size=(3, 3), stride=(1, 1), padding=(1, 1))\n",
              "  (24): ReLU(inplace=True)\n",
              "  (25): Conv2d(512, 512, kernel_size=(3, 3), stride=(1, 1), padding=(1, 1))\n",
              "  (26): ReLU(inplace=True)\n",
              "  (27): MaxPool2d(kernel_size=2, stride=2, padding=0, dilation=1, ceil_mode=False)\n",
              "  (28): Conv2d(512, 512, kernel_size=(3, 3), stride=(1, 1), padding=(1, 1))\n",
              "  (29): ReLU(inplace=True)\n",
              "  (30): Conv2d(512, 512, kernel_size=(3, 3), stride=(1, 1), padding=(1, 1))\n",
              "  (31): ReLU(inplace=True)\n",
              "  (32): Conv2d(512, 512, kernel_size=(3, 3), stride=(1, 1), padding=(1, 1))\n",
              "  (33): ReLU(inplace=True)\n",
              "  (34): Conv2d(512, 512, kernel_size=(3, 3), stride=(1, 1), padding=(1, 1))\n",
              "  (35): ReLU(inplace=True)\n",
              "  (36): MaxPool2d(kernel_size=2, stride=2, padding=0, dilation=1, ceil_mode=False)\n",
              ")"
            ]
          },
          "execution_count": 120,
          "metadata": {},
          "output_type": "execute_result"
        }
      ],
      "source": [
        "vgg = models.vgg19(pretrained=True).features\n",
        "for param in vgg.parameters():\n",
        "    param.requires_grad_(False)\n",
        "device = torch.device(\"cuda\" if torch.cuda.is_available() else \"cpu\")\n",
        "vgg.to(device)"
      ]
    },
    {
      "cell_type": "code",
      "execution_count": 121,
      "metadata": {
        "id": "1_h8u5-V1MD5"
      },
      "outputs": [],
      "source": [
        "if (torch.cuda.is_available()):\n",
        "    torch.cuda.manual_seed_all(42)\n",
        "    cudnn.benchmark = True\n",
        "\n",
        "    criterion_construct = criterion_construct.cuda()\n",
        "    criterion_discriminator = criterion_discriminator.cuda()\n",
        "    criterion_construct = criterion_construct.cuda()\n",
        "\n",
        "    perceptual.cuda()\n",
        "    discriminator.cuda()"
      ]
    },
    {
      "cell_type": "markdown",
      "metadata": {
        "id": "Oe87ze5D1MD6"
      },
      "source": [
        "## Init the network"
      ]
    },
    {
      "cell_type": "code",
      "execution_count": 122,
      "metadata": {
        "id": "vVGb29b_1MD6"
      },
      "outputs": [],
      "source": [
        "def weights_init_normal(m):\n",
        "    classname = m.__class__.__name__\n",
        "    if classname.find('Conv') != -1:\n",
        "        torch.nn.init.normal_(m.weight.data, 0.0, 0.02)\n",
        "    elif classname.find('BatchNorm2d') != -1:\n",
        "        torch.nn.init.normal_(m.weight.data, 1.0, 0.02)\n",
        "        torch.nn.init.constant(m.bias.data, 0.0)"
      ]
    },
    {
      "cell_type": "code",
      "execution_count": 123,
      "metadata": {
        "colab": {
          "base_uri": "https://localhost:8080/"
        },
        "id": "X-cEljb71MD6",
        "outputId": "25233130-365c-464a-85a5-74bcbde426d5"
      },
      "outputs": [
        {
          "data": {
            "text/plain": [
              "Discriminator(\n",
              "  (model): Sequential(\n",
              "    (0): Conv2d(3, 64, kernel_size=(4, 4), stride=(2, 2), padding=(1, 1))\n",
              "    (1): LeakyReLU(negative_slope=0.2, inplace=True)\n",
              "    (2): Conv2d(64, 128, kernel_size=(4, 4), stride=(1, 1), padding=(1, 1))\n",
              "    (3): InstanceNorm2d(128, eps=1e-05, momentum=0.1, affine=False, track_running_stats=False)\n",
              "    (4): LeakyReLU(negative_slope=0.2, inplace=True)\n",
              "    (5): Conv2d(128, 256, kernel_size=(4, 4), stride=(2, 2), padding=(1, 1))\n",
              "    (6): InstanceNorm2d(256, eps=1e-05, momentum=0.1, affine=False, track_running_stats=False)\n",
              "    (7): LeakyReLU(negative_slope=0.2, inplace=True)\n",
              "    (8): Conv2d(256, 512, kernel_size=(4, 4), stride=(2, 2), padding=(1, 1))\n",
              "    (9): InstanceNorm2d(256, eps=1e-05, momentum=0.1, affine=False, track_running_stats=False)\n",
              "    (10): LeakyReLU(negative_slope=0.2, inplace=True)\n",
              "    (11): Conv2d(512, 1, kernel_size=(4, 4), stride=(1, 1), padding=(1, 1))\n",
              "  )\n",
              ")"
            ]
          },
          "execution_count": 123,
          "metadata": {},
          "output_type": "execute_result"
        }
      ],
      "source": [
        "perceptual.apply(weights_init_normal)\n",
        "discriminator.apply(weights_init_normal)"
      ]
    },
    {
      "cell_type": "markdown",
      "metadata": {
        "id": "8j-yi9aD1MD7"
      },
      "source": [
        "## Training"
      ]
    },
    {
      "cell_type": "code",
      "execution_count": 124,
      "metadata": {},
      "outputs": [
        {
          "name": "stdout",
          "output_type": "stream",
          "text": [
            "e: 0, pre_loss: 14.19, D_real: 0.40, D_fake: 0.15\n",
            "e: 1, pre_loss: 11.74, D_real: 0.16, D_fake: 0.36\n",
            "e: 2, pre_loss: 12.23, D_real: 0.23, D_fake: 0.27\n",
            "e: 3, pre_loss: 10.73, D_real: 0.28, D_fake: 0.22\n",
            "e: 4, pre_loss: 11.89, D_real: 0.24, D_fake: 0.27\n",
            "e: 5, pre_loss: 14.07, D_real: 0.24, D_fake: 0.26\n",
            "e: 6, pre_loss: 11.60, D_real: 0.30, D_fake: 0.21\n",
            "e: 7, pre_loss: 12.44, D_real: 0.39, D_fake: 0.15\n",
            "e: 8, pre_loss: 10.10, D_real: 0.28, D_fake: 0.22\n",
            "e: 9, pre_loss: 10.28, D_real: 0.25, D_fake: 0.26\n",
            "e: 10, pre_loss: 10.21, D_real: 0.18, D_fake: 0.34\n",
            "e: 11, pre_loss: 10.48, D_real: 0.31, D_fake: 0.20\n",
            "e: 12, pre_loss: 11.73, D_real: 0.20, D_fake: 0.31\n",
            "e: 13, pre_loss: 11.95, D_real: 0.17, D_fake: 0.34\n",
            "e: 14, pre_loss: 11.59, D_real: 0.20, D_fake: 0.30\n",
            "e: 15, pre_loss: 10.99, D_real: 0.35, D_fake: 0.16\n",
            "e: 16, pre_loss: 11.67, D_real: 0.23, D_fake: 0.27\n",
            "e: 17, pre_loss: 10.77, D_real: 0.26, D_fake: 0.24\n",
            "e: 18, pre_loss: 10.90, D_real: 0.27, D_fake: 0.23\n",
            "e: 19, pre_loss: 10.36, D_real: 0.25, D_fake: 0.25\n",
            "e: 20, pre_loss: 9.57, D_real: 0.23, D_fake: 0.28\n",
            "e: 21, pre_loss: 11.76, D_real: 0.24, D_fake: 0.26\n",
            "e: 22, pre_loss: 10.38, D_real: 0.26, D_fake: 0.24\n",
            "e: 23, pre_loss: 11.04, D_real: 0.22, D_fake: 0.29\n",
            "e: 24, pre_loss: 11.67, D_real: 0.28, D_fake: 0.22\n",
            "e: 25, pre_loss: 10.78, D_real: 0.19, D_fake: 0.32\n",
            "e: 26, pre_loss: 12.20, D_real: 0.21, D_fake: 0.30\n",
            "e: 27, pre_loss: 12.00, D_real: 0.47, D_fake: 0.10\n",
            "e: 28, pre_loss: 11.29, D_real: 0.26, D_fake: 0.24\n",
            "e: 29, pre_loss: 11.27, D_real: 0.22, D_fake: 0.29\n",
            "e: 30, pre_loss: 9.69, D_real: 0.27, D_fake: 0.23\n",
            "e: 31, pre_loss: 9.56, D_real: 0.26, D_fake: 0.24\n",
            "e: 32, pre_loss: 10.96, D_real: 0.20, D_fake: 0.31\n",
            "e: 33, pre_loss: 9.68, D_real: 0.27, D_fake: 0.24\n",
            "e: 34, pre_loss: 10.39, D_real: 0.17, D_fake: 0.35\n",
            "e: 35, pre_loss: 9.26, D_real: 0.18, D_fake: 0.34\n",
            "e: 36, pre_loss: 12.55, D_real: 0.30, D_fake: 0.21\n",
            "e: 37, pre_loss: 11.08, D_real: 0.25, D_fake: 0.25\n",
            "e: 38, pre_loss: 10.64, D_real: 0.28, D_fake: 0.22\n",
            "e: 39, pre_loss: 11.34, D_real: 0.27, D_fake: 0.23\n",
            "e: 40, pre_loss: 10.75, D_real: 0.18, D_fake: 0.33\n",
            "e: 41, pre_loss: 11.45, D_real: 0.36, D_fake: 0.16\n",
            "e: 42, pre_loss: 10.73, D_real: 0.26, D_fake: 0.24\n",
            "e: 43, pre_loss: 10.08, D_real: 0.25, D_fake: 0.25\n",
            "e: 44, pre_loss: 9.39, D_real: 0.26, D_fake: 0.24\n",
            "e: 45, pre_loss: 9.58, D_real: 0.29, D_fake: 0.22\n",
            "e: 46, pre_loss: 9.37, D_real: 0.24, D_fake: 0.26\n",
            "e: 47, pre_loss: 10.07, D_real: 0.24, D_fake: 0.26\n",
            "e: 48, pre_loss: 11.06, D_real: 0.27, D_fake: 0.23\n",
            "e: 49, pre_loss: 9.80, D_real: 0.24, D_fake: 0.26\n",
            "e: 50, pre_loss: 10.50, D_real: 0.26, D_fake: 0.24\n",
            "e: 51, pre_loss: 9.55, D_real: 0.25, D_fake: 0.25\n",
            "e: 52, pre_loss: 9.97, D_real: 0.26, D_fake: 0.24\n",
            "e: 53, pre_loss: 10.03, D_real: 0.27, D_fake: 0.23\n",
            "e: 54, pre_loss: 10.20, D_real: 0.27, D_fake: 0.23\n",
            "e: 55, pre_loss: 10.85, D_real: 0.23, D_fake: 0.28\n",
            "e: 56, pre_loss: 10.56, D_real: 0.24, D_fake: 0.26\n",
            "e: 57, pre_loss: 9.64, D_real: 0.18, D_fake: 0.34\n",
            "e: 58, pre_loss: 11.00, D_real: 0.28, D_fake: 0.22\n",
            "e: 59, pre_loss: 10.80, D_real: 0.25, D_fake: 0.26\n",
            "e: 60, pre_loss: 11.12, D_real: 0.25, D_fake: 0.25\n",
            "e: 61, pre_loss: 10.25, D_real: 0.25, D_fake: 0.25\n",
            "e: 62, pre_loss: 10.35, D_real: 0.24, D_fake: 0.26\n",
            "e: 63, pre_loss: 10.93, D_real: 0.24, D_fake: 0.26\n",
            "e: 64, pre_loss: 10.32, D_real: 0.25, D_fake: 0.25\n",
            "e: 65, pre_loss: 11.70, D_real: 0.25, D_fake: 0.25\n",
            "e: 66, pre_loss: 9.38, D_real: 0.20, D_fake: 0.31\n",
            "e: 67, pre_loss: 11.23, D_real: 0.21, D_fake: 0.29\n",
            "e: 68, pre_loss: 11.00, D_real: 0.29, D_fake: 0.22\n",
            "e: 69, pre_loss: 10.50, D_real: 0.25, D_fake: 0.25\n",
            "e: 70, pre_loss: 12.40, D_real: 0.24, D_fake: 0.26\n",
            "e: 71, pre_loss: 11.03, D_real: 0.23, D_fake: 0.27\n",
            "e: 72, pre_loss: 10.05, D_real: 0.26, D_fake: 0.24\n",
            "e: 73, pre_loss: 11.61, D_real: 0.25, D_fake: 0.25\n",
            "e: 74, pre_loss: 11.01, D_real: 0.25, D_fake: 0.25\n",
            "e: 75, pre_loss: 10.55, D_real: 0.25, D_fake: 0.25\n",
            "e: 76, pre_loss: 10.84, D_real: 0.24, D_fake: 0.26\n",
            "e: 77, pre_loss: 12.24, D_real: 0.25, D_fake: 0.25\n",
            "e: 78, pre_loss: 11.01, D_real: 0.26, D_fake: 0.24\n",
            "e: 79, pre_loss: 11.47, D_real: 0.24, D_fake: 0.26\n",
            "e: 80, pre_loss: 11.15, D_real: 0.19, D_fake: 0.32\n",
            "e: 81, pre_loss: 10.66, D_real: 0.25, D_fake: 0.25\n",
            "e: 82, pre_loss: 9.89, D_real: 0.21, D_fake: 0.29\n",
            "e: 83, pre_loss: 11.00, D_real: 0.29, D_fake: 0.21\n",
            "e: 84, pre_loss: 11.53, D_real: 0.22, D_fake: 0.28\n",
            "e: 85, pre_loss: 11.46, D_real: 0.26, D_fake: 0.24\n",
            "e: 86, pre_loss: 11.21, D_real: 0.24, D_fake: 0.26\n",
            "e: 87, pre_loss: 10.25, D_real: 0.25, D_fake: 0.25\n",
            "e: 88, pre_loss: 11.12, D_real: 0.26, D_fake: 0.24\n",
            "e: 89, pre_loss: 9.98, D_real: 0.23, D_fake: 0.27\n",
            "e: 90, pre_loss: 10.36, D_real: 0.26, D_fake: 0.24\n",
            "e: 91, pre_loss: 11.58, D_real: 0.24, D_fake: 0.26\n",
            "e: 92, pre_loss: 9.57, D_real: 0.24, D_fake: 0.26\n",
            "e: 93, pre_loss: 10.82, D_real: 0.24, D_fake: 0.26\n",
            "e: 94, pre_loss: 10.21, D_real: 0.25, D_fake: 0.26\n",
            "e: 95, pre_loss: 10.58, D_real: 0.25, D_fake: 0.25\n",
            "e: 96, pre_loss: 10.39, D_real: 0.25, D_fake: 0.25\n",
            "e: 97, pre_loss: 10.31, D_real: 0.25, D_fake: 0.25\n",
            "e: 98, pre_loss: 10.69, D_real: 0.27, D_fake: 0.24\n",
            "e: 99, pre_loss: 11.58, D_real: 0.25, D_fake: 0.25\n",
            "e: 100, pre_loss: 11.20, D_real: 0.25, D_fake: 0.25\n",
            "e: 101, pre_loss: 10.17, D_real: 0.22, D_fake: 0.28\n",
            "e: 102, pre_loss: 9.86, D_real: 0.17, D_fake: 0.34\n",
            "e: 103, pre_loss: 11.34, D_real: 0.25, D_fake: 0.25\n",
            "e: 104, pre_loss: 9.85, D_real: 0.26, D_fake: 0.24\n",
            "e: 105, pre_loss: 10.04, D_real: 0.25, D_fake: 0.25\n",
            "e: 106, pre_loss: 11.28, D_real: 0.23, D_fake: 0.27\n",
            "e: 107, pre_loss: 10.82, D_real: 0.22, D_fake: 0.28\n",
            "e: 108, pre_loss: 11.26, D_real: 0.27, D_fake: 0.23\n",
            "e: 109, pre_loss: 10.44, D_real: 0.26, D_fake: 0.24\n",
            "e: 110, pre_loss: 10.82, D_real: 0.29, D_fake: 0.21\n",
            "e: 111, pre_loss: 10.98, D_real: 0.25, D_fake: 0.25\n",
            "e: 112, pre_loss: 10.65, D_real: 0.29, D_fake: 0.21\n",
            "e: 113, pre_loss: 10.38, D_real: 0.28, D_fake: 0.22\n",
            "e: 114, pre_loss: 11.71, D_real: 0.25, D_fake: 0.25\n",
            "e: 115, pre_loss: 10.27, D_real: 0.25, D_fake: 0.25\n",
            "e: 116, pre_loss: 11.23, D_real: 0.24, D_fake: 0.26\n",
            "e: 117, pre_loss: 11.18, D_real: 0.24, D_fake: 0.26\n",
            "e: 118, pre_loss: 9.96, D_real: 0.26, D_fake: 0.24\n",
            "e: 119, pre_loss: 11.04, D_real: 0.26, D_fake: 0.24\n",
            "e: 120, pre_loss: 10.02, D_real: 0.28, D_fake: 0.22\n",
            "e: 121, pre_loss: 12.03, D_real: 0.27, D_fake: 0.23\n",
            "e: 122, pre_loss: 8.88, D_real: 0.25, D_fake: 0.25\n",
            "e: 123, pre_loss: 11.77, D_real: 0.24, D_fake: 0.26\n",
            "e: 124, pre_loss: 11.52, D_real: 0.25, D_fake: 0.25\n",
            "e: 125, pre_loss: 10.96, D_real: 0.25, D_fake: 0.25\n",
            "e: 126, pre_loss: 11.38, D_real: 0.26, D_fake: 0.24\n",
            "e: 127, pre_loss: 11.78, D_real: 0.25, D_fake: 0.25\n",
            "e: 128, pre_loss: 10.93, D_real: 0.25, D_fake: 0.25\n",
            "e: 129, pre_loss: 10.26, D_real: 0.26, D_fake: 0.24\n",
            "e: 130, pre_loss: 9.75, D_real: 0.30, D_fake: 0.21\n",
            "e: 131, pre_loss: 11.18, D_real: 0.24, D_fake: 0.26\n",
            "e: 132, pre_loss: 10.39, D_real: 0.28, D_fake: 0.22\n",
            "e: 133, pre_loss: 10.71, D_real: 0.25, D_fake: 0.25\n",
            "e: 134, pre_loss: 9.99, D_real: 0.25, D_fake: 0.25\n",
            "e: 135, pre_loss: 12.28, D_real: 0.24, D_fake: 0.26\n",
            "e: 136, pre_loss: 10.89, D_real: 0.25, D_fake: 0.25\n",
            "e: 137, pre_loss: 9.90, D_real: 0.25, D_fake: 0.25\n",
            "e: 138, pre_loss: 10.07, D_real: 0.25, D_fake: 0.25\n",
            "e: 139, pre_loss: 10.05, D_real: 0.25, D_fake: 0.25\n",
            "e: 140, pre_loss: 10.29, D_real: 0.24, D_fake: 0.26\n",
            "e: 141, pre_loss: 10.57, D_real: 0.23, D_fake: 0.27\n",
            "e: 142, pre_loss: 12.98, D_real: 0.25, D_fake: 0.25\n",
            "e: 143, pre_loss: 10.16, D_real: 0.25, D_fake: 0.25\n",
            "e: 144, pre_loss: 11.38, D_real: 0.25, D_fake: 0.25\n",
            "e: 145, pre_loss: 10.52, D_real: 0.26, D_fake: 0.24\n",
            "e: 146, pre_loss: 11.11, D_real: 0.25, D_fake: 0.25\n",
            "e: 147, pre_loss: 9.05, D_real: 0.26, D_fake: 0.24\n",
            "e: 148, pre_loss: 11.91, D_real: 0.25, D_fake: 0.25\n",
            "e: 149, pre_loss: 11.99, D_real: 0.26, D_fake: 0.24\n",
            "e: 150, pre_loss: 9.73, D_real: 0.25, D_fake: 0.25\n",
            "e: 151, pre_loss: 9.31, D_real: 0.25, D_fake: 0.25\n",
            "e: 152, pre_loss: 10.86, D_real: 0.26, D_fake: 0.24\n",
            "e: 153, pre_loss: 10.60, D_real: 0.23, D_fake: 0.27\n",
            "e: 154, pre_loss: 12.40, D_real: 0.24, D_fake: 0.26\n",
            "e: 155, pre_loss: 8.14, D_real: 0.26, D_fake: 0.24\n",
            "e: 156, pre_loss: 10.18, D_real: 0.25, D_fake: 0.25\n",
            "e: 157, pre_loss: 9.55, D_real: 0.26, D_fake: 0.24\n",
            "e: 158, pre_loss: 11.56, D_real: 0.25, D_fake: 0.25\n",
            "e: 159, pre_loss: 11.10, D_real: 0.25, D_fake: 0.25\n",
            "e: 160, pre_loss: 9.33, D_real: 0.25, D_fake: 0.25\n",
            "e: 161, pre_loss: 9.11, D_real: 0.25, D_fake: 0.25\n",
            "e: 162, pre_loss: 9.60, D_real: 0.26, D_fake: 0.24\n",
            "e: 163, pre_loss: 10.92, D_real: 0.25, D_fake: 0.25\n",
            "e: 164, pre_loss: 10.64, D_real: 0.24, D_fake: 0.26\n",
            "e: 165, pre_loss: 11.70, D_real: 0.25, D_fake: 0.25\n",
            "e: 166, pre_loss: 10.70, D_real: 0.25, D_fake: 0.25\n",
            "e: 167, pre_loss: 9.69, D_real: 0.24, D_fake: 0.26\n",
            "e: 168, pre_loss: 10.25, D_real: 0.25, D_fake: 0.25\n",
            "e: 169, pre_loss: 10.42, D_real: 0.25, D_fake: 0.25\n",
            "e: 170, pre_loss: 10.70, D_real: 0.25, D_fake: 0.25\n",
            "e: 171, pre_loss: 10.12, D_real: 0.25, D_fake: 0.25\n",
            "e: 172, pre_loss: 11.39, D_real: 0.24, D_fake: 0.26\n",
            "e: 173, pre_loss: 10.73, D_real: 0.26, D_fake: 0.24\n",
            "e: 174, pre_loss: 11.04, D_real: 0.25, D_fake: 0.25\n",
            "e: 175, pre_loss: 9.69, D_real: 0.25, D_fake: 0.25\n",
            "e: 176, pre_loss: 11.53, D_real: 0.25, D_fake: 0.25\n",
            "e: 177, pre_loss: 9.28, D_real: 0.26, D_fake: 0.24\n",
            "e: 178, pre_loss: 10.79, D_real: 0.25, D_fake: 0.25\n",
            "e: 179, pre_loss: 9.98, D_real: 0.25, D_fake: 0.25\n",
            "e: 180, pre_loss: 10.09, D_real: 0.25, D_fake: 0.25\n",
            "e: 181, pre_loss: 9.83, D_real: 0.25, D_fake: 0.25\n",
            "e: 182, pre_loss: 10.99, D_real: 0.25, D_fake: 0.25\n",
            "e: 183, pre_loss: 10.42, D_real: 0.24, D_fake: 0.26\n",
            "e: 184, pre_loss: 9.17, D_real: 0.25, D_fake: 0.25\n",
            "e: 185, pre_loss: 10.46, D_real: 0.25, D_fake: 0.25\n",
            "e: 186, pre_loss: 10.52, D_real: 0.25, D_fake: 0.25\n",
            "e: 187, pre_loss: 10.12, D_real: 0.24, D_fake: 0.26\n",
            "e: 188, pre_loss: 11.45, D_real: 0.25, D_fake: 0.25\n",
            "e: 189, pre_loss: 11.20, D_real: 0.25, D_fake: 0.25\n",
            "e: 190, pre_loss: 10.66, D_real: 0.25, D_fake: 0.25\n",
            "e: 191, pre_loss: 11.16, D_real: 0.25, D_fake: 0.25\n",
            "e: 192, pre_loss: 10.61, D_real: 0.25, D_fake: 0.25\n",
            "e: 193, pre_loss: 9.84, D_real: 0.25, D_fake: 0.25\n",
            "e: 194, pre_loss: 10.17, D_real: 0.25, D_fake: 0.25\n",
            "e: 195, pre_loss: 11.61, D_real: 0.25, D_fake: 0.25\n",
            "e: 196, pre_loss: 10.87, D_real: 0.25, D_fake: 0.25\n",
            "e: 197, pre_loss: 11.58, D_real: 0.25, D_fake: 0.25\n",
            "e: 198, pre_loss: 9.85, D_real: 0.25, D_fake: 0.25\n",
            "e: 199, pre_loss: 9.93, D_real: 0.25, D_fake: 0.25\n"
          ]
        }
      ],
      "source": [
        "batchSize = 16\n",
        "cuda = True\n",
        "\n",
        "Tensor = torch.cuda.FloatTensor if cuda else torch.Tensor\n",
        "\n",
        "real_label = Variable(Tensor(batchSize).fill_(1.0), requires_grad=False)\n",
        "fake_label = Variable(Tensor(batchSize).fill_(0.0), requires_grad=False)\n",
        "real_label = real_label[:, None]\n",
        "fake_label = fake_label[:, None]\n",
        "\n",
        "\n",
        "input_A = Tensor(batchSize, 3, 64, 64)\n",
        "input_B = Tensor(batchSize, 3, 64, 64)\n",
        "\n",
        "for epoch in range(0, 200):\n",
        "    i = -1\n",
        "    for batchA, batchB in zip(loader_target, loader_source):\n",
        "        i += 1\n",
        "        real_A = Variable(input_A.copy_(batchA[0]))\n",
        "        real_B = Variable(input_B.copy_(batchB[0]))\n",
        "\n",
        "        optimizer_pre.zero_grad()\n",
        "\n",
        "        mixed_image, reconstructionA, reconstructionB = perceptual(real_A, real_B)\n",
        "\n",
        "        loss_ss = criterion_construct(reconstructionA, real_A)*30.0\n",
        "        loss_tt = criterion_construct(reconstructionB, real_B)*30.0\n",
        "\n",
        "        TV_loss = total_variation_loss(mixed_image)\n",
        "        pred_fake = discriminator(mixed_image)\n",
        "        loss_adv = criterion_adv(pred_fake, real_label)\n",
        "\n",
        "        cuda_mixed_image = mixed_image.clone().requires_grad_(True).cuda()\n",
        "        cuda_real_A = real_A.clone().requires_grad_(True).cuda()\n",
        "        cuda_real_B = real_B.clone().requires_grad_(True).cuda()\n",
        "        style_features = get_features(cuda_real_A, vgg)\n",
        "        content_features = get_features(cuda_real_B, vgg)\n",
        "        target_features = get_features(cuda_mixed_image, vgg)\n",
        "\n",
        "        content_loss = compute_content_loss(target_features['conv4_2'], content_features['conv4_2']) * 0.1\n",
        "        style_loss = compute_style_loss(style_features, target_features) * 0.05\n",
        "\n",
        "        preceptual_loss = loss_ss + loss_tt + TV_loss + loss_adv + content_loss + style_loss\n",
        "\n",
        "        preceptual_loss.backward()\n",
        "        optimizer_pre.step()\n",
        "\n",
        "        optimizer_dis.zero_grad()\n",
        "\n",
        "        pred_real = discriminator(real_A)\n",
        "        pred_fake = discriminator(mixed_image.detach())\n",
        "\n",
        "        loss_dis_real = criterion_discriminator(pred_real, real_label)\n",
        "        loss_dis_fake = criterion_discriminator(pred_real, fake_label)\n",
        "\n",
        "        discriminator_loss = loss_dis_real + loss_dis_fake\n",
        "        discriminator_loss.backward()\n",
        "        optimizer_dis.step()\n",
        "\n",
        "        if  i % 200 == 0:\n",
        "            real_A = real_A.data\n",
        "            real_B = real_B.data\n",
        "            mixed_image = mixed_image.data \n",
        "            reconstructionA = reconstructionA.data\n",
        "            reconstructionB = reconstructionB.data\n",
        "\n",
        "            save_image(real_A, './output/%03d/00_%d_A.png' % ( epoch, i))\n",
        "            save_image(real_B, 'output/%03d/00_%d_B.png' % ( epoch, i))\n",
        "            save_image(reconstructionA, 'output/%03d/00_%d_reconA.png' % ( epoch, i))\n",
        "            save_image(reconstructionB, 'output/%03d/00_%d_reconB.png' % ( epoch, i))\n",
        "            save_image(mixed_image, 'output/%03d/00_%d_Mixed.png' % ( epoch, i))\n",
        "        \n",
        "        if i >= 400:\n",
        "            break\n",
        "\n",
        "    print (\"e: %d, pre_loss: %.2f, D_real: %.2f, D_fake: %.2f\" % (epoch, preceptual_loss, loss_dis_real, loss_dis_fake))\n",
        "    "
      ]
    },
    {
      "cell_type": "code",
      "execution_count": 125,
      "metadata": {},
      "outputs": [],
      "source": [
        "torch.save(perceptual, \"./model_weight/perceptual\")\n",
        "torch.save(discriminator, \"./model_weight/discriminator\")"
      ]
    }
  ],
  "metadata": {
    "accelerator": "GPU",
    "colab": {
      "name": "my_model.ipynb",
      "provenance": []
    },
    "interpreter": {
      "hash": "0abf52f7dff1bbf2191b90c10bb43e97e891f8d70dafe2d0c71717742c591866"
    },
    "kernelspec": {
      "display_name": "Python 3.8.12 ('ml')",
      "language": "python",
      "name": "python3"
    },
    "language_info": {
      "codemirror_mode": {
        "name": "ipython",
        "version": 3
      },
      "file_extension": ".py",
      "mimetype": "text/x-python",
      "name": "python",
      "nbconvert_exporter": "python",
      "pygments_lexer": "ipython3",
      "version": "3.8.12"
    },
    "orig_nbformat": 4
  },
  "nbformat": 4,
  "nbformat_minor": 0
}
